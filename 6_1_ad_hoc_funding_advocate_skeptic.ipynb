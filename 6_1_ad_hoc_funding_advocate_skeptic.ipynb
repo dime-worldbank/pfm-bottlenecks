{
 "cells": [
  {
   "cell_type": "code",
   "execution_count": 0,
   "metadata": {
    "application/vnd.databricks.v1+cell": {
     "cellMetadata": {},
     "inputWidgets": {},
     "nuid": "2943340d-c322-4305-b0a2-a468f52623df",
     "showTitle": false,
     "tableResultSettingsMap": {},
     "title": ""
    }
   },
   "outputs": [],
   "source": [
    "from dotenv import load_dotenv\n",
    "import pandas as pd\n",
    "from service import Service\n",
    "load_dotenv()\n",
    "from typing import List, Literal, Optional\n",
    "from pydantic import BaseModel, Field\n",
    "import json\n",
    "import math\n",
    "from typing import Dict, Any, List\n",
    "from tqdm import tqdm\n",
    "import pandas as pd\n",
    "node_id, chunk_id, extended_context, extracted_evidence, expert_classification, reason_for_expert_irrelevant\n",
    "from service import Service\n",
    "from consts import DEFAULT_LLM_MODEL\n",
    "service = Service()\n",
    "model_name = DEFAULT_LLM_MODEL\n",
    "\n"
   ]
  },
  {
   "cell_type": "code",
   "execution_count": 0,
   "metadata": {
    "application/vnd.databricks.v1+cell": {
     "cellMetadata": {},
     "inputWidgets": {},
     "nuid": "97429d06-6197-441b-9e8e-3e585416b95c",
     "showTitle": false,
     "tableResultSettingsMap": {},
     "title": ""
    },
    "scrolled": true
   },
   "outputs": [],
   "source": [
    "df = pd.read_excel('bottleneck_final_summarized_for_review.xlsx', sheet_name='6.1')\n",
    "df = df[df['Review Result (Relevant, Irrelevant)'].notna()]\n",
    "rel_cols = ['node_id','chunk_id', 'extended_context','extracted_evidence', 'Review Result (Relevant, Irrelevant)',\n",
    "            'Reason for irrelevant or unsure ']\n",
    "df = df[rel_cols]\n",
    "df = df[df['Review Result (Relevant, Irrelevant)'].notna()]"
   ]
  },
  {
   "cell_type": "code",
   "execution_count": 0,
   "metadata": {
    "application/vnd.databricks.v1+cell": {
     "cellMetadata": {},
     "inputWidgets": {},
     "nuid": "af1e7e81-a9d1-400c-9a8f-1d659f7dadfc",
     "showTitle": false,
     "tableResultSettingsMap": {},
     "title": ""
    }
   },
   "outputs": [],
   "source": [
    "challenge = '''Unreliable, delayed and fragmented funding for delivery'''\n",
    "bottleneck = '''6.1 Ad hoc, political and fragmented funding channels contribute to ineffective and inefficient delivery'''\n",
    "extended_definition = '''\n",
    "Extended definition: The funding for service delivery and projects might be fragmented due to the existence of different funding sources or channels, such as budget general funds (general non-earmarked funding from the budget) from different ministries/agencies, earmarked funds from transfers coming from other governments, institutions and organizations and from earmarked government revenues, as well as funding coming from donors. Dealing with multiple funding can be challenging, especially if there is not an integrated and consolidated planning and management of such funding (these funds being managed with their corresponding parallel systems). Different management stages and procedures, non-consolidated information about the expected, distributed and consumed funds, as well as different levels of discretion in regard the use of the funds can make difficult a rational policy planning (due to uncertainty and lack of predictability of funding) and implementation, in addition to a more costly administration and higher risks of corruption and funds diversion.     \n",
    "\n",
    "Political discretion on the management of specific funds may create relevant obstacles to adequate planning and execution of service delivery and projects, as it may imply significant levels of uncertainty in regard to the allocated resources. Changing priorities, biases towards new projects and other elements may reduce the predictability and effective availability of funding for specific services and projects, making it difficult for agencies and departments to plan effectively and sustain long-term projects. This volatile nature of funding can lead to start-stop patterns in project execution, for example, where projects are initiated but then stalled due to sudden withdrawals or delays in funding.   \n",
    "\n",
    "The atomization and fragmentation of funding, with different parallel management (with their own stages and processes), reporting mechanisms and information systems contributes to administrative burdens and inefficient delivery, as well as making more difficult ensure a sound coordination, planning and execution of projects. These parallel systems may exist, for example, because of donors' contributions to the financing of specific services or projects, in order to fulfill their own financial management and control and reporting requirements, but at the cost of hindering client government’s systems and the integrated management of funds and service and project planning and coordination.  For example, donor’s use of Ethiopia’s public financial management and procurement systems significantly declined between the middle and end of the decade of 2010, with more than 50% of donor funding routed through parallel systems , creating complexity and lack of integration of services funding. Alike, in Uganda and Indonesia, the existence of multiple fragmented sources of financing created major challenges for local government planning, budget formulation and execution in regard of education policies.   \n",
    "\n",
    "In addition, the effects of the fragmentation of the different funding channels can foster, and be amplified, by the lack of adequate coordination between sectors, levels of government and partners, resulting in a duplication of efforts, and inefficiencies on the allocation, channeling and execution of resources.  For example, different agencies might end up competing for the same funds or, conversely, some funds might remain underutilized due to lack of awareness or coordination among potential beneficiaries, or, for policies planned and executed across different agencies and levels of government, poor coordination may end up with an inefficient policy development and allocation of resources (not coordinated planned actions and prepared budgets towards common/shared policy goals), as well as with delays and/or shortages in regard the distribution of funds. For instance, in Rwanda108, the funding and the implementation of gender-based violence policies managed by many agencies across the government (at least four ministries) and district governments, largely relying on donors funding, and with non-public funded services provided by outside of government institutions, organizations and communities, resulting challenging in terms of policy integration and optimal management of resources. Particularly relevant and frequent might be the case of fragmented and uncoordinated different funding mechanisms across levels of governments. In Nigeria health financing streams were highly fragmented across and within levels of government, with health facilities receiving both federal and state resources, contributory health insurance schemes being managed by separate small pools, with the Basic Healthcare Provision Fund creates even more funding pools managed by state and insurance agencies, setting up a very complex system between different levels of governments and operators. \n",
    "'''"
   ]
  },
  {
   "cell_type": "code",
   "execution_count": 0,
   "metadata": {
    "application/vnd.databricks.v1+cell": {
     "cellMetadata": {},
     "inputWidgets": {},
     "nuid": "9e0dffe7-1b9e-46b2-a8d2-269a4e4b7c61",
     "showTitle": false,
     "tableResultSettingsMap": {},
     "title": ""
    }
   },
   "outputs": [],
   "source": [
    "#node_id, chunk_id, extended_context, extracted_evidence, expert_classification, reason_for_expert_irrelevant = df.sample().iloc[0].values.tolist()"
   ]
  },
  {
   "cell_type": "code",
   "execution_count": 0,
   "metadata": {
    "application/vnd.databricks.v1+cell": {
     "cellMetadata": {},
     "inputWidgets": {},
     "nuid": "6c86f75b-6dc1-4e36-a266-8ca5ab3a00a6",
     "showTitle": false,
     "tableResultSettingsMap": {},
     "title": ""
    }
   },
   "outputs": [],
   "source": []
  },
  {
   "cell_type": "code",
   "execution_count": 0,
   "metadata": {
    "application/vnd.databricks.v1+cell": {
     "cellMetadata": {},
     "inputWidgets": {},
     "nuid": "50a6ae7e-e188-48a1-8b99-1d3f809ae5f6",
     "showTitle": false,
     "tableResultSettingsMap": {},
     "title": ""
    }
   },
   "outputs": [],
   "source": [
    "def relevance_boolean(x):\n",
    "    return x=='Relevant'"
   ]
  },
  {
   "cell_type": "code",
   "execution_count": 0,
   "metadata": {
    "application/vnd.databricks.v1+cell": {
     "cellMetadata": {},
     "inputWidgets": {},
     "nuid": "b798685e-e66a-4be5-9a58-b845e1cbab41",
     "showTitle": false,
     "tableResultSettingsMap": {},
     "title": ""
    }
   },
   "outputs": [],
   "source": [
    "\n",
    "\n",
    "StrongCue = Literal[\n",
    "    \"off_budget\",\n",
    "    \"parallel_systems\",\n",
    "    \"separate_administration\",\n",
    "    \"different_rules_processes_across_streams\",\n",
    "    \"political_ad_hoc_allocation\",\n",
    "    \"mid_year_approval_outside_cycle\",\n",
    "    \"block_allocation_outside_process\",\n",
    "    \"multiple_financing_pools_different_agencies\",\n",
    "]\n",
    "\n",
    "ModerateCue = Literal[\n",
    "    \"earmarked_or_tied_grants\",\n",
    "    \"vertical_fragmentation_intergovernmental\",\n",
    "    \"procedural_divergence_reporting_procurement_ifmis\",\n",
    "    \"pooled_fund_dissolved_or_bypass\",\n",
    "    \"volatility_revealing_fragmentation\",\n",
    "]\n",
    "\n",
    "FailureType = Literal[\n",
    "    \"inefficiency_higher_admin_costs\",\n",
    "    \"unpredictability_funding_volatility\",\n",
    "    \"coordination_failure_duplication_underutilization_competition\",\n",
    "    \"delays_start_stop\",\n",
    "    \"arrears_or_cash_shortfalls\",\n",
    "    \"corruption_or_leakage_risk\",\n",
    "]\n",
    "\n",
    "Subtype = Literal[\n",
    "    \"donor_gov_parallel\",\n",
    "    \"domestic_vs_donor_different_rules\",\n",
    "    \"political_ad_hoc_intragovernment\",\n",
    "    \"vertical_intergovernmental_fragmentation\",\n",
    "    \"program_administration_fragmentation\",\n",
    "    \"other\",\n",
    "]\n",
    "\n",
    "Decision = Literal[\n",
    "    \"relevant_feature\",                 # feature-based evidence satisfied\n",
    "    \"relevant_feature_and_failure\",     # fragmentation + failure satisfied\n",
    "    \"irrelevant\",                       # hard negative or no cues\n",
    "    \"abstain\",                          # insufficient quotable spans or uncertain\n",
    "]\n",
    "\n",
    "class BottleneckEvidence(BaseModel):\n",
    "    \"\"\"\n",
    "    Structured judgment for PFM Bottleneck 6.1.\n",
    "    Follows precision-first rules: strong/moderate cues, hard negatives, and span extraction.\n",
    "    \"\"\"\n",
    "    # Primary decisions\n",
    "    is_fragmentation_evidence: bool = Field(\n",
    "        ..., description=\"Feature-based verdict (diagnostic). True iff STRONG>=1 or MODERATE>=2 and trigger_spans present and not hard_negative.\"\n",
    "    )\n",
    "    is_fragmentation_plus_failure: bool = Field(\n",
    "        ..., description=\"Consequence-based verdict. True iff is_fragmentation_evidence and failure_present.\"\n",
    "    )\n",
    "    decision: Decision = Field(\n",
    "        ..., description='Overall decision among {\"relevant_feature\",\"relevant_feature_and_failure\",\"irrelevant\",\"abstain\"}.'\n",
    "    )\n",
    "\n",
    "    # Evidence for fragmentation\n",
    "    strong_cues: List[StrongCue] = Field(default_factory=list, description=\"Which strong cues were found.\")\n",
    "    moderate_cues: List[ModerateCue] = Field(default_factory=list, description=\"Which moderate cues were found.\")\n",
    "    hard_negative: bool = Field(False, description=\"True if the passage matches any exclusion rule.\")\n",
    "    trigger_spans: List[str] = Field(\n",
    "        default_factory=list,\n",
    "        description=\"Verbatim phrases from the text that support fragmentation cues (must be substrings of the input).\",\n",
    "    )\n",
    "    subtype: Subtype = Field(\"other\", description=\"Subtype of fragmentation, if any.\")\n",
    "\n",
    "    # Evidence for failure/inefficiency\n",
    "    failure_present: bool = Field(False, description=\"True if explicit or clearly implied delivery failure/inefficiency is present.\")\n",
    "    failure_types: List[FailureType] = Field(default_factory=list, description=\"Categorization of the failure/inefficiency mentioned.\")\n",
    "    failure_spans: List[str] = Field(\n",
    "        default_factory=list,\n",
    "        description=\"Verbatim phrases supporting failure/inefficiency (must be substrings of the input).\",\n",
    "    )\n",
    "\n",
    "    rationale: str = Field(\n",
    "        ...,\n",
    "        description=\"2-3 sentence justification referencing the trigger_spans/failure_spans; avoid speculation; no new facts.\",\n",
    "    )\n"
   ]
  },
  {
   "cell_type": "code",
   "execution_count": 0,
   "metadata": {
    "application/vnd.databricks.v1+cell": {
     "cellMetadata": {},
     "inputWidgets": {},
     "nuid": "e1e576bf-1f98-4221-9b67-d76e261f250a",
     "showTitle": false,
     "tableResultSettingsMap": {},
     "title": ""
    }
   },
   "outputs": [],
   "source": [
    "SYSTEM_PROMPT_BASE = \"\"\"\n",
    "You are a public financial management (PFM) diagnostic analyst.\n",
    "Task: determine if a passage evidences Bottleneck 6.1: “Ad hoc, political, and fragmented funding channels contribute to ineffective and inefficient delivery.”\n",
    "Scope lock: Treat fragmentation strictly as funding/financial-management channel fragmentation. Program/administrative separation is irrelevant unless it creates a distinct funding flow or parallel financial control stream.\n",
    "Always quote verbatim trigger spans from the INPUT TEXT. Be precise and conservative.\n",
    "\"\"\"\n",
    "\n",
    "PROMPT_SHARED_HEADER = \"\"\"\n",
    "Bottleneck family: {challenge}\n",
    "Specific bottleneck: {bottleneck}\n",
    "\n",
    "Extended definition:\n",
    "{extended_definition}\n",
    "\n",
    "INPUT TEXT:\n",
    "{input_text}\n",
    "\n",
    "Extended source context (for corroboration only; do not quote from it):\n",
    "{extended_context}\n",
    "\"\"\"\n",
    "\n",
    "PROMPT_ADVOCATE = PROMPT_SHARED_HEADER + \"\"\"\n",
    "ROLE = ADVOCATE\n",
    "Goal: make the best good-faith case for relevance (maximize recall) while staying within the scope lock.\n",
    "\n",
    "What to look for:\n",
    "- Funding-channel fragmentation cues:\n",
    "  STRONG: off-budget; parallel accounts/systems; donor vs government with different rules/processes; political/ad-hoc channels (block/mid-year) bypassing normal cycle; multiple financing pools managed by different agencies; bypass of government systems/pooled fund dissolved→parallel handling.\n",
    "  MODERATE: earmarked/tied with separate handling; vertical IG fragmentation with distinct pools; procedural divergence across funding streams (release/reporting/procurement/IFMIS); volatility revealing separate handling (“moved off-budget”, “bypassed TSA”).\n",
    "- Delivery failure/inefficiency: higher admin costs, unpredictability/start–stop, coordination failure/duplication/underutilization/competition, delays/arrears/cash shortfalls, corruption/leakage.\n",
    "\n",
    "Output JSON strictly as the given schema. Quote finance trigger spans from the INPUT TEXT.\n",
    "\"\"\"\n",
    "\n",
    "PROMPT_SKEPTIC = PROMPT_SHARED_HEADER + \"\"\"\n",
    "ROLE = SKEPTIC\n",
    "Goal: test and narrow (maximize precision). Accept only funding-channel fragmentation. Reject hard negatives.\n",
    "\n",
    "Hard negatives (irrelevant unless a qualifying funding-channel cue exists):\n",
    "- Wage-bill/personnel/payroll control (PSC, casual workers, “separate budget vote/line”) on-budget\n",
    "- Program-budget/accountability structure without distinct funding channels/systems\n",
    "- Capacity/procurement/audit issues without alternate channels\n",
    "- Revenue politics (divisible pool shares, OSR) without off-budget/ad-hoc fees/parallel accounts\n",
    "- Donor dependence/withdrawal without off-budget/parallel handling or different rules\n",
    "\n",
    "Require a finance trigger span (“off-budget”, “TSA/IFMIS”, “parallel account/system”, “pool/pooled fund”, “allocation/release/warrant/disbursement”, “block/discretionary”, “mid-year approval”, “ADP/MTEF”, “donor-funded vs government-funded (different rules)”).\n",
    "If no such span exists, push for abstain/irrelevant.\n",
    "\n",
    "Output JSON strictly as the given schema. Quote finance trigger spans from the INPUT TEXT.\n",
    "\"\"\"\n",
    "\n",
    "PROMPT_JUDGE = \"\"\"\n",
    "ROLE = JUDGE\n",
    "You will see the original task info, the INPUT TEXT, and JSON opinions from an Advocate and a Skeptic.\n",
    "Reconcile and emit the final structured judgment using the BottleneckEvidence schema and the acceptance rules:\n",
    "\n",
    "Acceptance rules:\n",
    "1) is_fragmentation_evidence = true iff ((STRONG >= 1) OR (MODERATE >= 2)) AND trigger_spans (finance words) nonempty AND hard_negative = false.\n",
    "2) is_fragmentation_plus_failure = true iff is_fragmentation_evidence AND failure_present = true.\n",
    "3) If no explicit finance phrase can be quoted for trigger_spans, decision = \"abstain\".\n",
    "4) Always fill trigger_spans and failure_spans with verbatim phrases from the INPUT TEXT that justify your labels.\n",
    "5) Keep scope lock: fragmentation means funding/financial-management channels.\n",
    "\n",
    "TASK INFO\n",
    "---------\n",
    "Bottleneck family: {challenge}\n",
    "Specific bottleneck: {bottleneck}\n",
    "\n",
    "Extended definition:\n",
    "{extended_definition}\n",
    "\n",
    "INPUT TEXT:\n",
    "{input_text}\n",
    "\n",
    "Extended source context (for corroboration only; do not quote from it):\n",
    "{extended_context}\n",
    "\n",
    "ADVOCATE JSON:\n",
    "{advocate_json}\n",
    "\n",
    "SKEPTIC JSON:\n",
    "{skeptic_json}\n",
    "\"\"\"\n",
    "\n",
    "StrongCue = Literal[\n",
    "    \"off_budget\",\n",
    "    \"parallel_systems\",\n",
    "    \"donor_vs_gov_different_rules\",\n",
    "    \"political_ad_hoc_channel\",\n",
    "    \"mid_year_outside_cycle\",\n",
    "    \"multiple_financing_pools\",\n",
    "    \"bypass_gov_systems_or_pooled_dissolved\"\n",
    "]\n",
    "\n",
    "ModerateCue = Literal[\n",
    "    \"earmarked_tied_with_separate_handling\",\n",
    "    \"vertical_fragmentation_distinct_pools\",\n",
    "    \"procedural_divergence_across_streams\",\n",
    "    \"volatility_revealing_separate_handling\"\n",
    "]\n",
    "\n",
    "FailureType = Literal[\n",
    "    \"inefficiency_higher_admin_costs\",\n",
    "    \"unpredictability_funding_volatility\",\n",
    "    \"coordination_failure_duplication_underutilization_competition\",\n",
    "    \"delays_start_stop\",\n",
    "    \"arrears_or_cash_shortfalls\",\n",
    "    \"corruption_or_leakage_risk\",\n",
    "]\n",
    "\n",
    "class PanelOpinion(BaseModel):\n",
    "    proposed_decision: Literal[\"relevant_feature\",\"relevant_feature_and_failure\",\"irrelevant\",\"abstain\"] = Field(...)\n",
    "    strong_cues: List[StrongCue] = Field(default_factory=list)\n",
    "    moderate_cues: List[ModerateCue] = Field(default_factory=list)\n",
    "    trigger_spans: List[str] = Field(default_factory=list, description=\"Verbatim finance-related spans from INPUT TEXT.\")\n",
    "    hard_negative_flags: List[Literal[\n",
    "        \"wagebill_personnel_on_budget_only\",\n",
    "        \"program_admin_without_finance_split\",\n",
    "        \"procurement_capacity_audit_only\",\n",
    "        \"revenue_politics_without_alt_channel\",\n",
    "        \"donor_volatility_without_parallelization\"\n",
    "    ]] = Field(default_factory=list)\n",
    "    failure_present: bool = False\n",
    "    failure_types: List[FailureType] = Field(default_factory=list)\n",
    "    failure_spans: List[str] = Field(default_factory=list)\n",
    "    rationale: str = Field(..., description=\"2–4 sentences, reference quoted spans, no speculation.\")\n",
    "\n",
    "def classify_with_panel(\n",
    "    service,\n",
    "    challenge: str,\n",
    "    bottleneck: str,\n",
    "    extended_definition: str,\n",
    "    input_text: str,\n",
    "    extended_context: str = \"\",\n",
    "    model: str = DEFAULT_LLM_MODEL,\n",
    "    system_prompt_base: str = SYSTEM_PROMPT_BASE,\n",
    "    temperature: float = 0.0,\n",
    "):\n",
    "    # Advocate\n",
    "    advocate_prompt = PROMPT_ADVOCATE.format(\n",
    "        challenge=challenge,\n",
    "        bottleneck=bottleneck,\n",
    "        extended_definition=extended_definition,\n",
    "        input_text=input_text,\n",
    "        extended_context=extended_context,\n",
    "    )\n",
    "    advocate = service.execute(\n",
    "        prompt=advocate_prompt,\n",
    "        model=model,\n",
    "        response_model=PanelOpinion,\n",
    "        temperature=temperature,\n",
    "        system_message=system_prompt_base + \"\\nROLE: ADVOCATE\"\n",
    "    )\n",
    "\n",
    "    # Skeptic\n",
    "    skeptic_prompt = PROMPT_SKEPTIC.format(\n",
    "        challenge=challenge,\n",
    "        bottleneck=bottleneck,\n",
    "        extended_definition=extended_definition,\n",
    "        input_text=input_text,\n",
    "        extended_context=extended_context,\n",
    "    )\n",
    "    skeptic = service.execute(\n",
    "        prompt=skeptic_prompt,\n",
    "        model=model,\n",
    "        response_model=PanelOpinion,\n",
    "        temperature=temperature,\n",
    "        system_message=system_prompt_base + \"\\nROLE: SKEPTIC\"\n",
    "    )\n",
    "\n",
    "    # Judge\n",
    "    import json\n",
    "    judge_prompt = PROMPT_JUDGE.format(\n",
    "        challenge=challenge,\n",
    "        bottleneck=bottleneck,\n",
    "        extended_definition=extended_definition,\n",
    "        input_text=input_text,\n",
    "        extended_context=extended_context,\n",
    "        advocate_json=json.dumps(advocate.dict(), ensure_ascii=False),\n",
    "        skeptic_json=json.dumps(skeptic.dict(), ensure_ascii=False),\n",
    "    )\n",
    "    final = service.execute(\n",
    "        prompt=judge_prompt,\n",
    "        model=model,\n",
    "        response_model=BottleneckEvidence,\n",
    "        temperature=temperature,\n",
    "        system_message=system_prompt_base + \"\\nROLE: JUDGE\"\n",
    "    )\n",
    "\n",
    "    return final, advocate, skeptic\n"
   ]
  },
  {
   "cell_type": "code",
   "execution_count": 0,
   "metadata": {
    "application/vnd.databricks.v1+cell": {
     "cellMetadata": {},
     "inputWidgets": {},
     "nuid": "3b4cfb2e-95a1-427e-b647-106d219b4a35",
     "showTitle": false,
     "tableResultSettingsMap": {},
     "title": ""
    }
   },
   "outputs": [],
   "source": [
    "l = []"
   ]
  },
  {
   "cell_type": "code",
   "execution_count": 0,
   "metadata": {
    "application/vnd.databricks.v1+cell": {
     "cellMetadata": {},
     "inputWidgets": {},
     "nuid": "ce61cebd-9632-46d5-9418-28e56ae511a2",
     "showTitle": false,
     "tableResultSettingsMap": {},
     "title": ""
    }
   },
   "outputs": [],
   "source": [
    "start, end = 100, df.shape[0]\n",
    "for item in tqdm(df.values.tolist()[start:end]):\n",
    "    node_id, chunk_id, extended_context, extracted_evidence, expert_classification, reason_for_expert_irrelevant = item\n",
    "    final, advocate, skeptic = classify_with_panel(\n",
    "        service,\n",
    "        challenge = challenge,\n",
    "        bottleneck = bottleneck,\n",
    "        extended_definition = extended_definition,\n",
    "        input_text = extracted_evidence,\n",
    "        extended_context = extended_context,\n",
    "        model = DEFAULT_LLM_MODEL,\n",
    "        system_prompt_base = SYSTEM_PROMPT_BASE,\n",
    "        temperature = 0.0,\n",
    "    )\n",
    "    l.append((node_id, chunk_id, extended_context, extracted_evidence, expert_classification, reason_for_expert_irrelevant,\n",
    "            final, advocate, skeptic))"
   ]
  },
  {
   "cell_type": "code",
   "execution_count": 0,
   "metadata": {
    "application/vnd.databricks.v1+cell": {
     "cellMetadata": {},
     "inputWidgets": {},
     "nuid": "a58db47f-e824-482e-aa68-3eadafed64c6",
     "showTitle": false,
     "tableResultSettingsMap": {},
     "title": ""
    }
   },
   "outputs": [],
   "source": []
  },
  {
   "cell_type": "code",
   "execution_count": 0,
   "metadata": {
    "application/vnd.databricks.v1+cell": {
     "cellMetadata": {},
     "inputWidgets": {},
     "nuid": "e8d25582-b3eb-47da-8181-c8e67589d162",
     "showTitle": false,
     "tableResultSettingsMap": {},
     "title": ""
    }
   },
   "outputs": [],
   "source": []
  },
  {
   "cell_type": "code",
   "execution_count": 0,
   "metadata": {
    "application/vnd.databricks.v1+cell": {
     "cellMetadata": {},
     "inputWidgets": {},
     "nuid": "ff541b3c-e1cc-4f3a-a4cb-e03f2a2e9d43",
     "showTitle": false,
     "tableResultSettingsMap": {},
     "title": ""
    }
   },
   "outputs": [],
   "source": [
    "def relevance_boolean(x):\n",
    "    return x=='Relevant'"
   ]
  },
  {
   "cell_type": "code",
   "execution_count": 0,
   "metadata": {
    "application/vnd.databricks.v1+cell": {
     "cellMetadata": {},
     "inputWidgets": {},
     "nuid": "0986d541-48da-484a-88c4-9d87c19cdc4d",
     "showTitle": false,
     "tableResultSettingsMap": {},
     "title": ""
    }
   },
   "outputs": [],
   "source": [
    "m = [(relevance_boolean(item[-5]), item[-3].is_fragmentation_evidence, item[-3].is_fragmentation_plus_failure) for item in l]\n",
    "df_results = pd.DataFrame(m, columns = ['expert_label', 'model1_label', 'model2_label'])\n",
    "precision_m1 = (\n",
    "    df_results.query(\"model1_label == True and expert_label == True\").shape[0]\n",
    "    / df_results.query(\"model1_label == True\").shape[0]\n",
    "    if df_results.query(\"model1_label == True\").shape[0] > 0\n",
    "    else 0\n",
    ")\n",
    "\n",
    "precision_m2 = (\n",
    "    df_results.query(\"model2_label == True and expert_label == True\").shape[0]\n",
    "    / df_results.query(\"model2_label == True\").shape[0]\n",
    "    if df_results.query(\"model2_label == True\").shape[0] > 0\n",
    "    else 0\n",
    ")\n",
    "\n",
    "print(f\"Precision (Model 1): {precision_m1:.2f}\")\n",
    "print(f\"Precision (Model 2): {precision_m2:.2f}\")"
   ]
  },
  {
   "cell_type": "code",
   "execution_count": 0,
   "metadata": {
    "application/vnd.databricks.v1+cell": {
     "cellMetadata": {},
     "inputWidgets": {},
     "nuid": "1ff89eac-f303-4748-8400-2220cacb1657",
     "showTitle": false,
     "tableResultSettingsMap": {},
     "title": ""
    }
   },
   "outputs": [],
   "source": []
  },
  {
   "cell_type": "code",
   "execution_count": 0,
   "metadata": {
    "application/vnd.databricks.v1+cell": {
     "cellMetadata": {},
     "inputWidgets": {},
     "nuid": "83a393f3-04f7-4c90-8a26-3dbfa3f6af3b",
     "showTitle": false,
     "tableResultSettingsMap": {},
     "title": ""
    }
   },
   "outputs": [],
   "source": []
  },
  {
   "cell_type": "code",
   "execution_count": 0,
   "metadata": {
    "application/vnd.databricks.v1+cell": {
     "cellMetadata": {},
     "inputWidgets": {},
     "nuid": "c01f4204-f5ae-4987-b588-b2d2c181a601",
     "showTitle": false,
     "tableResultSettingsMap": {},
     "title": ""
    }
   },
   "outputs": [],
   "source": []
  },
  {
   "cell_type": "code",
   "execution_count": 0,
   "metadata": {
    "application/vnd.databricks.v1+cell": {
     "cellMetadata": {},
     "inputWidgets": {},
     "nuid": "84042722-c6a4-4514-aab9-4cbb4760170a",
     "showTitle": false,
     "tableResultSettingsMap": {},
     "title": ""
    }
   },
   "outputs": [],
   "source": []
  },
  {
   "cell_type": "code",
   "execution_count": 0,
   "metadata": {
    "application/vnd.databricks.v1+cell": {
     "cellMetadata": {},
     "inputWidgets": {},
     "nuid": "6afbb4ed-bafd-41b7-a1d8-e0e7faf802d0",
     "showTitle": false,
     "tableResultSettingsMap": {},
     "title": ""
    }
   },
   "outputs": [],
   "source": []
  },
  {
   "cell_type": "code",
   "execution_count": 0,
   "metadata": {
    "application/vnd.databricks.v1+cell": {
     "cellMetadata": {},
     "inputWidgets": {},
     "nuid": "5e6e2650-e769-465c-a119-76638a81a11a",
     "showTitle": false,
     "tableResultSettingsMap": {},
     "title": ""
    }
   },
   "outputs": [],
   "source": []
  },
  {
   "cell_type": "code",
   "execution_count": 0,
   "metadata": {
    "application/vnd.databricks.v1+cell": {
     "cellMetadata": {},
     "inputWidgets": {},
     "nuid": "adcca87d-e947-413e-b114-602be6192612",
     "showTitle": false,
     "tableResultSettingsMap": {},
     "title": ""
    }
   },
   "outputs": [],
   "source": []
  },
  {
   "cell_type": "code",
   "execution_count": 0,
   "metadata": {
    "application/vnd.databricks.v1+cell": {
     "cellMetadata": {},
     "inputWidgets": {},
     "nuid": "a865cbbf-8163-4beb-85f2-08b49864b9f5",
     "showTitle": false,
     "tableResultSettingsMap": {},
     "title": ""
    }
   },
   "outputs": [],
   "source": []
  },
  {
   "cell_type": "code",
   "execution_count": 0,
   "metadata": {
    "application/vnd.databricks.v1+cell": {
     "cellMetadata": {},
     "inputWidgets": {},
     "nuid": "eb2f986c-7291-4253-8ea8-64a75f69a543",
     "showTitle": false,
     "tableResultSettingsMap": {},
     "title": ""
    }
   },
   "outputs": [],
   "source": []
  },
  {
   "cell_type": "code",
   "execution_count": 0,
   "metadata": {
    "application/vnd.databricks.v1+cell": {
     "cellMetadata": {},
     "inputWidgets": {},
     "nuid": "f24afaa7-ca9e-49f2-927a-f81ce5c3382c",
     "showTitle": false,
     "tableResultSettingsMap": {},
     "title": ""
    }
   },
   "outputs": [],
   "source": []
  },
  {
   "cell_type": "code",
   "execution_count": 0,
   "metadata": {
    "application/vnd.databricks.v1+cell": {
     "cellMetadata": {},
     "inputWidgets": {},
     "nuid": "6a7810f3-8dad-455c-92c1-33e5725e5cd6",
     "showTitle": false,
     "tableResultSettingsMap": {},
     "title": ""
    }
   },
   "outputs": [],
   "source": []
  },
  {
   "cell_type": "code",
   "execution_count": 0,
   "metadata": {
    "application/vnd.databricks.v1+cell": {
     "cellMetadata": {},
     "inputWidgets": {},
     "nuid": "db5c0a5c-92a0-4e56-95b9-6d302272bd3a",
     "showTitle": false,
     "tableResultSettingsMap": {},
     "title": ""
    }
   },
   "outputs": [],
   "source": []
  },
  {
   "cell_type": "code",
   "execution_count": 0,
   "metadata": {
    "application/vnd.databricks.v1+cell": {
     "cellMetadata": {},
     "inputWidgets": {},
     "nuid": "f1a75d18-dff6-47af-865e-d35fc9e6852a",
     "showTitle": false,
     "tableResultSettingsMap": {},
     "title": ""
    }
   },
   "outputs": [],
   "source": []
  },
  {
   "cell_type": "code",
   "execution_count": 0,
   "metadata": {
    "application/vnd.databricks.v1+cell": {
     "cellMetadata": {},
     "inputWidgets": {},
     "nuid": "9171f17b-9c83-4f2b-931e-eb3e8e064478",
     "showTitle": false,
     "tableResultSettingsMap": {},
     "title": ""
    }
   },
   "outputs": [],
   "source": []
  },
  {
   "cell_type": "code",
   "execution_count": 0,
   "metadata": {
    "application/vnd.databricks.v1+cell": {
     "cellMetadata": {},
     "inputWidgets": {},
     "nuid": "c0dfa3f9-9abf-4554-a581-ef5bec4852e1",
     "showTitle": false,
     "tableResultSettingsMap": {},
     "title": ""
    }
   },
   "outputs": [],
   "source": []
  },
  {
   "cell_type": "code",
   "execution_count": 0,
   "metadata": {
    "application/vnd.databricks.v1+cell": {
     "cellMetadata": {},
     "inputWidgets": {},
     "nuid": "303b8082-7878-4cb1-8e71-8e29509b1393",
     "showTitle": false,
     "tableResultSettingsMap": {},
     "title": ""
    }
   },
   "outputs": [],
   "source": [
    "import numpy as np\n",
    "\n",
    "def cosine_similarity(vec1, vec2):\n",
    "    \"\"\"\n",
    "    Compute the cosine similarity between two vectors.\n",
    "    Args:\n",
    "        vec1 (list or np.ndarray): First vector\n",
    "        vec2 (list or np.ndarray): Second vector\n",
    "    Returns:\n",
    "        float: Cosine similarity value\n",
    "    \"\"\"\n",
    "    v1 = np.array(vec1)\n",
    "    v2 = np.array(vec2)\n",
    "    dot_product = np.dot(v1, v2)\n",
    "    norm_v1 = np.linalg.norm(v1)\n",
    "    norm_v2 = np.linalg.norm(v2)\n",
    "    if norm_v1 == 0 or norm_v2 == 0:\n",
    "        return 0.0\n",
    "    return dot_product / (norm_v1 * norm_v2)\n"
   ]
  },
  {
   "cell_type": "code",
   "execution_count": 0,
   "metadata": {
    "application/vnd.databricks.v1+cell": {
     "cellMetadata": {},
     "inputWidgets": {},
     "nuid": "fea1a7d7-e3c4-438a-96e8-20d880d1bc93",
     "showTitle": false,
     "tableResultSettingsMap": {},
     "title": ""
    }
   },
   "outputs": [],
   "source": [
    "import os\n",
    "import numpy as np\n",
    "from openai import OpenAI\n",
    "\n",
    "client = OpenAI()\n",
    "\n",
    "def get_embedding(text, model=\"text-embedding-ada-002\"):\n",
    "    \"\"\"\n",
    "    Convert input text into an embedding vector using OpenAI's embedding API.\n",
    "    \"\"\"\n",
    "    response = client.embeddings.create(\n",
    "        model=model,\n",
    "        input=text\n",
    "    )\n",
    "    return np.array(response.data[0].embedding)\n",
    "\n",
    "def cosine_similarity(vec1, vec2):\n",
    "    \"\"\"\n",
    "    Compute cosine similarity between two vectors.\n",
    "    \"\"\"\n",
    "    dot_product = np.dot(vec1, vec2)\n",
    "    norm_v1 = np.linalg.norm(vec1)\n",
    "    norm_v2 = np.linalg.norm(vec2)\n",
    "    if norm_v1 == 0 or norm_v2 == 0:\n",
    "        return 0.0\n",
    "    return dot_product / (norm_v1 * norm_v2)\n",
    "\n",
    "def similarity_between_texts(text1, text2):\n",
    "    \"\"\"\n",
    "    Vectorize two input texts and compute their cosine similarity.\n",
    "    \"\"\"\n",
    "    vec1 = get_embedding(text1)\n",
    "    vec2 = get_embedding(text2)\n",
    "    return cosine_similarity(vec1, vec2)\n"
   ]
  },
  {
   "cell_type": "code",
   "execution_count": 0,
   "metadata": {
    "application/vnd.databricks.v1+cell": {
     "cellMetadata": {},
     "inputWidgets": {},
     "nuid": "c5c85238-d286-40a2-bc22-b36104c25d05",
     "showTitle": false,
     "tableResultSettingsMap": {},
     "title": ""
    }
   },
   "outputs": [],
   "source": []
  },
  {
   "cell_type": "code",
   "execution_count": 0,
   "metadata": {
    "application/vnd.databricks.v1+cell": {
     "cellMetadata": {},
     "inputWidgets": {},
     "nuid": "1cdec18d-2faf-4182-812e-773a90b15c14",
     "showTitle": false,
     "tableResultSettingsMap": {},
     "title": ""
    }
   },
   "outputs": [],
   "source": [
    "\n",
    "text_a = \"Public financial management reform in Africa.\"\n",
    "text_b = \"Budget and expenditure systems improvement in African countries.\"\n",
    "\n",
    "similarity = similarity_between_texts(text_a, text_b)\n",
    "print(f\"Cosine similarity: {similarity:.4f}\")\n"
   ]
  },
  {
   "cell_type": "code",
   "execution_count": 0,
   "metadata": {
    "application/vnd.databricks.v1+cell": {
     "cellMetadata": {},
     "inputWidgets": {},
     "nuid": "56cebdee-1b42-4c50-bb48-2ca5c8c9743d",
     "showTitle": false,
     "tableResultSettingsMap": {},
     "title": ""
    }
   },
   "outputs": [],
   "source": [
    "cosine_similarity(v1, v2)"
   ]
  },
  {
   "cell_type": "code",
   "execution_count": 0,
   "metadata": {
    "application/vnd.databricks.v1+cell": {
     "cellMetadata": {},
     "inputWidgets": {},
     "nuid": "956ca822-bc7c-4dd5-ac43-2a5fea18768f",
     "showTitle": false,
     "tableResultSettingsMap": {},
     "title": ""
    }
   },
   "outputs": [],
   "source": [
    "q = 'poverty'\n",
    "t1 = \"Trang Nguyen is a professional with expertise in poverty reduction, shared prosperity, and sustainable development. Trang's work focuses on providing policy-oriented diagnostics, technical assistance, and improved communication on reform options. Trang has experience in various projects related to poverty assessment, fiscal policy, and economic growth. Trang's work involves building engagement with governments and stakeholders to promote growth and job creation. Trang has also contributed to the operationalization of the twin goals of poverty reduction and shared prosperity in the Western Balkans. Trang has supported the generation of new data and analytics on SOGI inclusion. Trang's location and additional details are not provided in the given data\"\n",
    "t2 = \"FIRST_NAME is a transport specialist with a strong background in urban transport, railway systems, and sustainable transport solutions.  Expertise encompasses economic analysis, policy development, project management, and data analysis.  Has worked on various projects related to improving transport infrastructure and services, focusing on efficiency, safety, and sustainability. Experience includes working on BRT systems, integrated urban transport planning, railway connectivity, economic corridor development, multimodal logistics, and institutional reform in the transport sector.\\n\"\n"
   ]
  },
  {
   "cell_type": "code",
   "execution_count": 0,
   "metadata": {
    "application/vnd.databricks.v1+cell": {
     "cellMetadata": {},
     "inputWidgets": {},
     "nuid": "5e22ad9b-04ac-42e5-af21-5371b7a176c4",
     "showTitle": false,
     "tableResultSettingsMap": {},
     "title": ""
    }
   },
   "outputs": [],
   "source": [
    "similarity_between_texts(q,t1)"
   ]
  },
  {
   "cell_type": "code",
   "execution_count": 0,
   "metadata": {
    "application/vnd.databricks.v1+cell": {
     "cellMetadata": {},
     "inputWidgets": {},
     "nuid": "eb68c02f-e91b-4c3c-a285-55181225089d",
     "showTitle": false,
     "tableResultSettingsMap": {},
     "title": ""
    }
   },
   "outputs": [],
   "source": [
    "similarity_between_texts(q,t2)"
   ]
  },
  {
   "cell_type": "code",
   "execution_count": 0,
   "metadata": {
    "application/vnd.databricks.v1+cell": {
     "cellMetadata": {},
     "inputWidgets": {},
     "nuid": "775c5439-13a3-46ab-b275-284fed3ff6ae",
     "showTitle": false,
     "tableResultSettingsMap": {},
     "title": ""
    }
   },
   "outputs": [],
   "source": [
    "similarity_between_texts(t1,t2)"
   ]
  },
  {
   "cell_type": "code",
   "execution_count": 0,
   "metadata": {
    "application/vnd.databricks.v1+cell": {
     "cellMetadata": {},
     "inputWidgets": {},
     "nuid": "9e45e953-d3bb-4170-8c3e-c2574033d2c7",
     "showTitle": false,
     "tableResultSettingsMap": {},
     "title": ""
    }
   },
   "outputs": [],
   "source": [
    "cosine_similarity(v1, v2)"
   ]
  },
  {
   "cell_type": "code",
   "execution_count": 0,
   "metadata": {
    "application/vnd.databricks.v1+cell": {
     "cellMetadata": {},
     "inputWidgets": {},
     "nuid": "a900810b-7041-41d7-be56-341bd6a20dc7",
     "showTitle": false,
     "tableResultSettingsMap": {},
     "title": ""
    }
   },
   "outputs": [],
   "source": [
    "vec1 = get_embedding(t1)\n",
    "cosine_similarity(vec1, v1)"
   ]
  },
  {
   "cell_type": "code",
   "execution_count": 0,
   "metadata": {
    "application/vnd.databricks.v1+cell": {
     "cellMetadata": {},
     "inputWidgets": {},
     "nuid": "9be75679-c099-419f-a00b-ce98ca15a704",
     "showTitle": false,
     "tableResultSettingsMap": {},
     "title": ""
    }
   },
   "outputs": [],
   "source": []
  }
 ],
 "metadata": {
  "application/vnd.databricks.v1+notebook": {
   "computePreferences": null,
   "dashboards": [],
   "environmentMetadata": null,
   "inputWidgetPreferences": null,
   "language": "python",
   "notebookMetadata": {},
   "notebookName": "6_1_ad_hoc_funding_advocate_skeptic",
   "widgets": {}
  },
  "kernelspec": {
   "display_name": "Witchcraft Cases",
   "language": "python",
   "name": "witchcraft"
  },
  "language_info": {
   "name": "python"
  }
 },
 "nbformat": 4,
 "nbformat_minor": 0
}
