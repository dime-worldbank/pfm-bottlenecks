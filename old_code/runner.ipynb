{
 "cells": [
  {
   "cell_type": "code",
   "execution_count": 0,
   "metadata": {
    "application/vnd.databricks.v1+cell": {
     "cellMetadata": {
      "byteLimit": 2048000,
      "rowLimit": 10000
     },
     "inputWidgets": {},
     "nuid": "5cce190d-8967-4f6f-842f-6f03ef95cf7b",
     "showTitle": false,
     "tableResultSettingsMap": {},
     "title": ""
    }
   },
   "outputs": [],
   "source": [
    "!pip install instructor\n",
    "!pip install azure.identity openai\n",
    "!pip install tqdm\n",
    "dbutils.library.restartPython()"
   ]
  },
  {
   "cell_type": "code",
   "execution_count": 0,
   "metadata": {
    "application/vnd.databricks.v1+cell": {
     "cellMetadata": {
      "byteLimit": 2048000,
      "rowLimit": 10000
     },
     "inputWidgets": {},
     "nuid": "6ea9f5ea-fe23-4d0e-9a85-1a929df8fd84",
     "showTitle": false,
     "tableResultSettingsMap": {},
     "title": ""
    }
   },
   "outputs": [],
   "source": [
    "from random import sample\n",
    "from tqdm import tqdm\n",
    "from time import sleep\n",
    "\n",
    "\n",
    "from consts import pf_challenges, llm_model\n",
    "from models.registry import MODEL_REGISTRY, VALIDATION_MODEL_REGISTRY\n",
    "from prompts import make_bottleneck_prompt, make_validation_prompt\n",
    "from azure_service import service\n",
    "\n"
   ]
  },
  {
   "cell_type": "code",
   "execution_count": 0,
   "metadata": {
    "application/vnd.databricks.v1+cell": {
     "cellMetadata": {
      "byteLimit": 2048000,
      "rowLimit": 10000
     },
     "inputWidgets": {},
     "nuid": "6081ea3d-5915-43ef-b9d8-58826f6538ad",
     "showTitle": false,
     "tableResultSettingsMap": {},
     "title": ""
    }
   },
   "outputs": [],
   "source": [
    "# only run this for the selected bottlenecks\n",
    "ACTIVE_BOTTLENECK_IDS = [\"2.1\", \"3.1\"]\n",
    "\n",
    "active_bottlenecks = []\n",
    "for challenge in pf_challenges:\n",
    "    for b in challenge[\"bottlenecks\"]:\n",
    "        if b[\"bottleneck_id\"] in ACTIVE_BOTTLENECK_IDS:\n",
    "            active_bottlenecks.append({\n",
    "                \"challenge_name\": challenge[\"challenge_name\"],\n",
    "                \"challenge_id\": challenge[\"challenge_id\"],\n",
    "                \"challenge_description\": challenge[\"challenge_description\"],\n",
    "                \"role_of_public_finance\": challenge[\"role_of_public_finance\"],\n",
    "                \"role_description\": challenge[\"role_description\"],\n",
    "                **b\n",
    "            })"
   ]
  },
  {
   "cell_type": "code",
   "execution_count": 0,
   "metadata": {
    "application/vnd.databricks.v1+cell": {
     "cellMetadata": {},
     "inputWidgets": {},
     "nuid": "a222ad56-af83-4c54-9933-cf2e731b9bdd",
     "showTitle": false,
     "tableResultSettingsMap": {},
     "title": ""
    }
   },
   "outputs": [],
   "source": [
    "# retrieve chunk data\n",
    "df_chunks = spark.read.table(\"prd_mega.sboost4.per_pfr_chunks\").toPandas()\n",
    "chunk_data = [{'node_id':x[0], 'chunk_id':x[1], 'text':x[2]} for x in df_chunks.values.tolist()]"
   ]
  },
  {
   "cell_type": "code",
   "execution_count": 0,
   "metadata": {
    "application/vnd.databricks.v1+cell": {
     "cellMetadata": {},
     "inputWidgets": {},
     "nuid": "9aa835dd-dbfa-4277-b471-bfd830f3cd71",
     "showTitle": false,
     "tableResultSettingsMap": {},
     "title": ""
    }
   },
   "outputs": [],
   "source": [
    "results_2_1_3_1 = []\n",
    "\n",
    "for i, chunk in enumerate(tqdm(chunk_data)):\n",
    "    if i%10==0:\n",
    "        sleep(3)\n",
    "    results = []\n",
    "    for b in active_bottlenecks:\n",
    "        model_cls = MODEL_REGISTRY[b[\"bottleneck_id\"]]\n",
    "        validation_cls = VALIDATION_MODEL_REGISTRY.get(b[\"bottleneck_id\"])\n",
    "        try:\n",
    "            prompt = make_bottleneck_prompt(\n",
    "                text=chunk[\"text\"],\n",
    "                role_of_public_finance=b[\"role_of_public_finance\"],\n",
    "                role_description=b[\"role_description\"],\n",
    "                challenge_name=b[\"challenge_name\"],\n",
    "                challenge_description=b[\"challenge_description\"],\n",
    "                bottleneck_name=b[\"bottleneck_name\"],\n",
    "                bottleneck_description=b[\"bottleneck_description\"]\n",
    "            )\n",
    "\n",
    "            result = service.execute(\n",
    "                prompt=prompt,\n",
    "                model=llm_model,\n",
    "                response_model=model_cls\n",
    "            )\n",
    "\n",
    "            if not result.extracted_evidence:\n",
    "                pass\n",
    "            else:\n",
    "                validation_prompt = make_validation_prompt(\n",
    "                    extracted_evidence=result.extracted_evidence,\n",
    "                    reasoning=result.reasoning,\n",
    "                    role_of_public_finance=b[\"role_of_public_finance\"],\n",
    "                    role_description=b[\"role_description\"],\n",
    "                    challenge_name=b[\"challenge_name\"],\n",
    "                    challenge_description=b[\"challenge_description\"],\n",
    "                    bottleneck_name=b[\"bottleneck_name\"],\n",
    "                    bottleneck_description=b[\"bottleneck_description\"],\n",
    "                    validation_model_cls=validation_cls\n",
    "                )\n",
    "\n",
    "                validation = service.execute(\n",
    "                    prompt=validation_prompt,\n",
    "                    model=llm_model,\n",
    "                    response_model=validation_cls\n",
    "                ) if validation_cls else None\n",
    "\n",
    "                results.append({\n",
    "                    \"node_id\": chunk[\"node_id\"],\n",
    "                    \"chunk_id\": chunk[\"chunk_id\"],\n",
    "                    \"chunk\": chunk[\"text\"],\n",
    "                    \"challenge_id\": b[\"challenge_id\"],\n",
    "                    \"bottleneck_id\": b[\"bottleneck_id\"],\n",
    "                    \"was_processed\": True,\n",
    "                    \"extracted_evidence\": result.extracted_evidence,\n",
    "                    \"reasoning\": result.reasoning,\n",
    "                    \"extraction_confidence\": result.confidence,\n",
    "                    \"validation_reasoning\": validation.validation_reasoning if validation else None,\n",
    "                    \"validation_confidence\": validation.confidence if validation else None,\n",
    "                    \"is_valid\": validation.is_valid if validation else None,\n",
    "                    **(validation.model_dump(exclude_unset=True, exclude={\n",
    "                        \"validation_reasoning\", \"validation_confidence\", \"is_valid\"\n",
    "                    }) if validation else {})\n",
    "                })\n",
    "\n",
    "        except Exception as e:\n",
    "            print(f\"Error for bottleneck {b['bottleneck_id']}: {e}\")\n",
    "\n",
    "    results_2_1_3_1.extend(results)\n"
   ]
  }
 ],
 "metadata": {
  "application/vnd.databricks.v1+notebook": {
   "computePreferences": null,
   "dashboards": [],
   "environmentMetadata": {
    "base_environment": "",
    "environment_version": "2"
   },
   "inputWidgetPreferences": null,
   "language": "python",
   "notebookMetadata": {
    "pythonIndentUnit": 4
   },
   "notebookName": "runner",
   "widgets": {}
  },
  "language_info": {
   "name": "python"
  }
 },
 "nbformat": 4,
 "nbformat_minor": 0
}
