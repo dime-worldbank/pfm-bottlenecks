{
 "cells": [
  {
   "cell_type": "code",
   "execution_count": 0,
   "metadata": {
    "application/vnd.databricks.v1+cell": {
     "cellMetadata": {},
     "inputWidgets": {},
     "nuid": "7af1b35b-420a-475e-b2ce-a17d0f34267b",
     "showTitle": false,
     "tableResultSettingsMap": {},
     "title": ""
    }
   },
   "outputs": [],
   "source": [
    "from dotenv import load_dotenv\n",
    "import pandas as pd\n",
    "from service import Service\n",
    "load_dotenv()\n",
    "from typing import List, Literal, Optional\n",
    "from pydantic import BaseModel, Field\n",
    "import json\n",
    "import math\n",
    "from typing import Dict, Any, List\n",
    "from tqdm import tqdm\n",
    "import pandas as pd\n",
    "from service import Service\n",
    "from consts import DEFAULT_LLM_MODEL\n",
    "service = Service()\n",
    "model_name = DEFAULT_LLM_MODEL"
   ]
  },
  {
   "cell_type": "code",
   "execution_count": 0,
   "metadata": {
    "application/vnd.databricks.v1+cell": {
     "cellMetadata": {},
     "inputWidgets": {},
     "nuid": "b9a6e67d-62ff-4168-a4d8-af3d4e69c9fc",
     "showTitle": false,
     "tableResultSettingsMap": {},
     "title": ""
    }
   },
   "outputs": [],
   "source": [
    "df = pd.read_excel('bottleneck_2_1_3_1_for_review.xlsx')\n",
    "rel_cols = ['node_id', 'chunk_id', 'extracted_evidence', 'chunk', 'Review_status', 'Reason']\n",
    "\n",
    "df = df[rel_cols]"
   ]
  },
  {
   "cell_type": "code",
   "execution_count": 0,
   "metadata": {
    "application/vnd.databricks.v1+cell": {
     "cellMetadata": {},
     "inputWidgets": {},
     "nuid": "37d5ef88-1a46-4312-9a27-c7161f7156cb",
     "showTitle": false,
     "tableResultSettingsMap": {},
     "title": ""
    }
   },
   "outputs": [],
   "source": [
    "\n",
    "system_prompt = \"\"\"\n",
    "You are a public financial management (PFM) diagnostic analyst.\n",
    "Task: determine if a passage evidences **fragmented institutional responsibilities and weak coordination for macro-fiscal management**.\n",
    "Scope lock: Treat fragmentation strictly as institutional or mandate fragmentation across macro-fiscal agencies\n",
    "(e.g., Ministry of Finance, Treasury, Debt Management Office, Central Bank, donor-financing units).\n",
    "Budget, debt, and monetary functions that operate in silos or without coordination qualify.\n",
    "Sectoral policy overlaps, intergovernmental financing issues, fragmented data systems, or generic coordination problems are outside scope.\n",
    "Always quote verbatim trigger spans from the INPUT TEXT. Be precise and conservative.\n",
    "\"\"\"\n",
    "\n",
    "\n",
    "PROMPT_TEMPLATE = f\"\"\"\n",
    "You are a PFM diagnostic coder. Your task is to judge whether the INPUT TEXT\n",
    "contains evidence for the Bottleneck: Policy Incoherence & Fragmentation:\n",
    "\n",
    "Here is an extended definition with examples for context: \n",
    "{extended_definition}\n",
    "\n",
    "Additionally use:\n",
    "- Hierarchical Category: {challenge}\n",
    "- Bottleneck Name: {bottleneck}\n",
    "\n",
    "Output MUST follow the JSON schema you are given (no extra keys, no prose).\n",
    "\n",
    "––––– CODING GOAL –––––\n",
    "We use TWO complementary lenses:\n",
    "A) Feature-based (policy design): Evidence that **multiple policies/strategies/programs/frameworks** are **conflicting, duplicative, or uncoordinated** (within a sector or across sectors).\n",
    "B) Consequence-based: The above **plus** a stated consequence (duplication, inefficiency, stranded assets, distortions, etc.).\n",
    "\n",
    "––––– DEFINITIONS (OPERABLE) –––––\n",
    "• Policy-fragmentation cues (diagnostic features):\n",
    "  STRONG (any ONE is sufficient for feature-based evidence):\n",
    "    - conflicting_or_overlapping_policies              # two+ policies/strategies/plans at odds or duplicative\n",
    "    - parallel_strategies_or_plans                     # parallel (siloed) frameworks addressing same goal\n",
    "    - uncoordinated_programs_same_objective            # separate programs w/ same objective run unaligned\n",
    "    - misaligned_targets_across_policies               # targets/eligibility/criteria clash across policies\n",
    "    - policy_frameworks_ignore_interdependencies       # explicit statement that frameworks omit complementarities\n",
    "\n",
    "  MODERATE (need TWO together if no STRONG):\n",
    "    - explicit_policy_terms_present                    # words like policy/strategy/plan/framework/program named\n",
    "    - cross_sector_interface_ignored                   # policy design misses cross-sector linkages (e.g., energy↔transmission; agri↔climate)\n",
    "    - causal_link_stated                               # text states how incoherence → consequence\n",
    "    - concrete_consequence_present                     # duplication, stranded assets, inefficiency, etc.\n",
    "    - sufficient_specificity                           # named country/sector/institution/policy/program (not generic)\n",
    "\n",
    "• Consequences (examples):\n",
    "  - inefficiency/duplication/overlap\n",
    "  - stranded assets / bottlenecks / market distortions\n",
    "  - missed synergies / poor outcomes\n",
    "  - higher-than-optimal costs / waste\n",
    "\n",
    "––––– HARD NEGATIVES (EXCLUDE from 6.1) –––––\n",
    "Mark hard_negative = true and decision = \"irrelevant\" if the text is ONLY about:\n",
    "  A) Macro-institutional fragmentation (2.1): MoF/Treasury/DMO/Central Bank roles, donor–government financing integration, budget formulation vs macro planning misalignment.\n",
    "  B) Intergovernmental financing/delivery (6.2/7.6): devolution/transfer incoherence; federal–provincial/local overlaps in spending responsibilities.\n",
    "  C) Data/MIS fragmentation (9.2): fragmented data systems, non-interoperable reporting, reconciliation issues.\n",
    "  D) Policy vacuum: absence of any framework (ad hoc because there is none), with no conflicting/parallel policies.\n",
    "  E) Operational-only lack of coordination: execution/communication failures within a single existing framework.\n",
    "  F) Generic/Vague: abstract statement that could apply anywhere; no concrete actors/policies/sectors or mechanisms.\n",
    "\n",
    "––––– ACCEPTANCE RULES –––––\n",
    "1) is_policy_fragmentation_evidence = true  iff\n",
    "   (len(STRONG) >= 1  OR  len(MODERATE) >= 2)\n",
    "   AND trigger_spans is nonempty AND hard_negative = false.\n",
    "2) is_policy_fragmentation_plus_failure = true  iff\n",
    "   is_policy_fragmentation_evidence = true AND failure_present = true.\n",
    "3) If no explicit phrase can be quoted for trigger_spans, set decision to \"abstain\" (even if you suspect relevance).\n",
    "4) Always fill trigger_spans and failure_spans with verbatim phrases from the INPUT TEXT that justify your labels.\n",
    "\n",
    "––––– OUTPUT FORMAT –––––\n",
    "Return ONLY JSON that conforms to the schema provided below. Do not include commentary.\n",
    "\n",
    "––––– INPUT TEXT –––––\n",
    "{{input_text}}\n",
    "\n",
    "––––– EXTENDED CONTEXT –––––\n",
    "{extended_context}\n",
    "\"\"\"\n",
    "\n",
    "\n",
    "challenge = 'Incoherence and Fragmentation of Policy'\n",
    "\n",
    "bottleneck = 'Fragmented, Inconsistent and Uncoordinated Policies Across or Within Sectors'\n",
    "\n",
    "extended_definition = '''\n",
    "\n",
    "Fragmentation manifests both within and across sectors when policy design does not consider interdependencies, complementarities, or broader strategic frameworks. In Malawi, despite strong consensus on a national Health Benefits Package, donor funding has remained locked into vertical, disease-specific programs rather than aligning with the unified strategy, creating duplication and missed synergies (Connolly et al., 2024). Similarly, in Kenya, overlapping and uncoordinated youth skills initiatives have created inefficiencies and blurred accountability for results. In Pakistan’s energy sector, renewable energy transition policies, such as the Alternative and Renewable Energy Policy (2019), were initially developed in isolation from the broader National Power Policy frameworks, leading to incoherent strategies. Only recently, through the 2021 National Electricity Policy and the 2023 Integrated Generation Capacity Expansion Plan, has Pakistan moved toward a more coordinated energy sector approach (World Bank, 2021).\n",
    "\n",
    "Poor prioritization compounds these challenges, diverting limited resources away from high-impact investments. In Indonesia, infrastructure investments in education outpaced reforms in teaching quality, limiting improvements in learning outcomes (World Bank, 2018). Similarly, in Ghana, agricultural strategies have remained disconnected from the country’s climate goals, undermining climate resilience efforts. In Liberia, unbalanced funding across education levels persists, although universal basic education is publicly endorsed, political incentives in the Senate lead to disproportionate budget allocations favoring universities at the expense of primary education. In Uganda, classic studies such as Reinikka and Svensson (2001) found that as much as 87% of capitation grants intended for primary schools were diverted before reaching their intended beneficiaries—a problem echoed by similar findings in Tanzania using Public Expenditure Tracking Surveys (World Bank, 2006).\n",
    "\n",
    "The consequences of fragmentation are profound and widespread. In Vietnam, while generous feed-in tariffs successfully catalyzed solar deployment, inadequate parallel investment in transmission infrastructure created bottlenecks that now limit the sector’s expansion (World Bank, 2019). In Kenya, although strong public procurement frameworks helped triple power generation capacity since 1990, poor alignment between supply expansion and demand projections led to stranded assets and market distortions.  \n",
    "\n",
    "'''"
   ]
  },
  {
   "cell_type": "code",
   "execution_count": 0,
   "metadata": {
    "application/vnd.databricks.v1+cell": {
     "cellMetadata": {},
     "inputWidgets": {},
     "nuid": "1c6f487d-ad1d-47f5-a321-2f75b74cd2a6",
     "showTitle": false,
     "tableResultSettingsMap": {},
     "title": ""
    }
   },
   "outputs": [],
   "source": [
    "\n",
    "\n",
    "StrongPolicyCue = Literal[\n",
    "    \"conflicting_or_overlapping_policies\",\n",
    "    \"parallel_strategies_or_plans\",\n",
    "    \"uncoordinated_programs_same_objective\",\n",
    "    \"misaligned_targets_across_policies\",\n",
    "    \"policy_frameworks_ignore_interdependencies\",\n",
    "]\n",
    "\n",
    "ModeratePolicyCue = Literal[\n",
    "    \"explicit_policy_terms_present\",\n",
    "    \"cross_sector_interface_ignored\",\n",
    "    \"causal_link_stated\",\n",
    "    \"concrete_consequence_present\",\n",
    "    \"sufficient_specificity\",\n",
    "]\n",
    "\n",
    "FailureType = Literal[\n",
    "    \"inefficiency_or_duplication\",\n",
    "    \"stranded_assets_or_bottlenecks\",\n",
    "    \"market_distortions\",\n",
    "    \"missed_synergies_or_poor_outcomes\",\n",
    "    \"higher_costs_or_waste\",\n",
    "]\n",
    "\n",
    "Subtype = Literal[\n",
    "    \"within_sector\",\n",
    "    \"cross_sector\",\n",
    "    \"other\",\n",
    "]\n",
    "\n",
    "Decision = Literal[\n",
    "    \"relevant_feature\",                 # feature-based evidence satisfied\n",
    "    \"relevant_feature_and_failure\",     # policy fragmentation + consequence satisfied\n",
    "    \"irrelevant\",                       # hard negative or no cues\n",
    "    \"abstain\",                          # insufficient quotable spans or uncertain\n",
    "]\n",
    "\n",
    "class EvidenceSignals(BaseModel):\n",
    "    multiple_policies_or_programs: bool\n",
    "    cross_sector_or_within_sector_policy_conflict: bool\n",
    "    donor_government_financing_issue: bool\n",
    "    intergovernmental_overlap: bool\n",
    "    data_systems_fragmentation: bool\n",
    "    explicit_policy_terms_present: bool\n",
    "    causal_link_present: bool\n",
    "    concrete_consequence_present: bool\n",
    "    specificity_ok: bool\n",
    "\n",
    "AltReason = Literal[\n",
    "    \"Sectoral policy incoherence or fragmentation across/within sectors (multiple uncoordinated policies or strategies)\",\n",
    "    \"Intergovernmental financing or delivery incoherence between levels of government (federal, provincial, local overlaps, incomplete devolution)\",\n",
    "    \"Fragmented or non-interoperable data and information systems (multiple MIS, reporting or reconciliation gaps)\",\n",
    "    \"Policy vacuum or absence of a guiding framework (no conflicting frameworks exist, ad-hoc decisions due to lack of policy)\",\n",
    "    \"Operational-only coordination failure within one framework (implementation problem, not institutional fragmentation)\",\n",
    "    \"Generic or vague statement without concrete macro-institutional context (applies universally, lacks specificity)\",\n",
    "    \"Other or unclear reason for irrelevance\"\n",
    "]\n",
    "\n",
    "\n",
    "class BottleneckEvidence(BaseModel):\n",
    "    \"\"\"\n",
    "    Structured judgment for PFM Bottleneck 2.1 (Policy incoherence/fragmentation).\n",
    "    Mirrors your precision-first pattern: strong/moderate cues, hard negatives, span extraction.\n",
    "    \"\"\"\n",
    "    # Primary decisions\n",
    "    is_policy_fragmentation_evidence: bool = Field(\n",
    "        ..., description=\"Feature-based verdict. True iff STRONG>=1 or MODERATE>=2 and trigger_spans present and not hard_negative.\"\n",
    "    )\n",
    "    is_policy_fragmentation_plus_failure: bool = Field(\n",
    "        ..., description=\"Consequence-based verdict. True iff is_policy_fragmentation_evidence and failure_present.\"\n",
    "    )\n",
    "    decision: Decision = Field(\n",
    "        ..., description='Overall decision among {\"relevant_feature\",\"relevant_feature_and_failure\",\"irrelevant\",\"abstain\"}.'\n",
    "    )\n",
    "\n",
    "    # Evidence for policy fragmentation\n",
    "    strong_cues: List[StrongPolicyCue] = Field(default_factory=list, description=\"Which strong policy cues were found.\")\n",
    "    moderate_cues: List[ModeratePolicyCue] = Field(default_factory=list, description=\"Which moderate policy cues were found.\")\n",
    "    hard_negative: bool = Field(False, description=\"True if the passage matches any exclusion rule  vacuum / operational / generic / other).\")\n",
    "    trigger_spans: List[str] = Field(\n",
    "        default_factory=list,\n",
    "        description=\"Verbatim phrases from the INPUT TEXT that support policy fragmentation cues (must be substrings).\",\n",
    "    )\n",
    "    subtype: Subtype = Field(\"other\", description=\"Within-sector or cross-sector fragmentation, if determinable.\")\n",
    "\n",
    "    # Evidence for consequence/failure\n",
    "    failure_present: bool = Field(False, description=\"True if explicit or clearly implied consequence is present.\")\n",
    "    failure_types: List[FailureType] = Field(default_factory=list, description=\"Categorization of the consequence mentioned.\")\n",
    "    failure_spans: List[str] = Field(\n",
    "        default_factory=list,\n",
    "        description=\"Verbatim phrases supporting consequence (must be substrings).\",\n",
    "    )\n",
    "\n",
    "    non_2_1_reason: Optional[AltReason] = Field(\n",
    "        default=None,\n",
    "        description=(\n",
    "            \"If the passage is judged not relevant to Bottleneck 2.1, specify the reason — \"\n",
    "            \"for example: sectoral policy incoherence (fragmented or uncoordinated policies across/within sectors); \"\n",
    "            \"intergovernmental financing or delivery incoherence between government levels; \"\n",
    "            \"fragmented or non-interoperable data systems; \"\n",
    "            \"absence of macro-fiscal institutional content (policy vacuum); \"\n",
    "            \"operational-only coordination failure; or overly generic evidence.\"\n",
    "        ),\n",
    "    )\n",
    "\n",
    "    # Signals + auditability\n",
    "    signals: EvidenceSignals = Field(\n",
    "        ..., description=\"Binary features to support audits and calibrations.\"\n",
    "    )\n",
    "\n",
    "    # Justification + confidence\n",
    "    rationale: str = Field(\n",
    "        ...,\n",
    "        description=\"2–4 sentence justification referencing trigger_spans/failure_spans; avoid speculation; no new facts.\",\n",
    "    )\n",
    "\n"
   ]
  },
  {
   "cell_type": "code",
   "execution_count": 0,
   "metadata": {
    "application/vnd.databricks.v1+cell": {
     "cellMetadata": {},
     "inputWidgets": {},
     "nuid": "7e74713c-a92f-431e-8756-751592444c53",
     "showTitle": false,
     "tableResultSettingsMap": {},
     "title": ""
    }
   },
   "outputs": [],
   "source": [
    "l = []"
   ]
  },
  {
   "cell_type": "code",
   "execution_count": 0,
   "metadata": {
    "application/vnd.databricks.v1+cell": {
     "cellMetadata": {},
     "inputWidgets": {},
     "nuid": "d3ea97cc-fc59-4010-89dc-3324fbd93fe5",
     "showTitle": false,
     "tableResultSettingsMap": {},
     "title": ""
    }
   },
   "outputs": [],
   "source": [
    "start, end = 100, df.shape[0]\n",
    "for item in tqdm(df.values.tolist()[start:end]):\n",
    "    node_id, chunk_id, extracted_evidence, extended_context, expert_label, expert_reason = item\n",
    "    prompt = PROMPT_TEMPLATE.format(\n",
    "        challenge = challenge,\n",
    "        bottleneck = bottleneck,\n",
    "        extended_definition=extended_definition,\n",
    "        input_text=extracted_evidence,\n",
    "        extended_context=extended_context,\n",
    "    )\n",
    "    \n",
    "    output = service.execute(\n",
    "        prompt=prompt,\n",
    "        model=DEFAULT_LLM_MODEL,\n",
    "        response_model=BottleneckEvidence,\n",
    "        temperature=0.0,\n",
    "        system_message=system_prompt\n",
    "    )\n",
    "    l.append((node_id, chunk_id, extended_context, extracted_evidence, expert_label, expert_reason, output ))\n",
    "    "
   ]
  },
  {
   "cell_type": "code",
   "execution_count": 0,
   "metadata": {
    "application/vnd.databricks.v1+cell": {
     "cellMetadata": {},
     "inputWidgets": {},
     "nuid": "de8f84db-38ac-49ce-9725-2cb6b2c09399",
     "showTitle": false,
     "tableResultSettingsMap": {},
     "title": ""
    }
   },
   "outputs": [],
   "source": []
  },
  {
   "cell_type": "code",
   "execution_count": 0,
   "metadata": {
    "application/vnd.databricks.v1+cell": {
     "cellMetadata": {},
     "inputWidgets": {},
     "nuid": "e2a3ede0-db07-4b37-8ec5-83d7d6adc1c9",
     "showTitle": false,
     "tableResultSettingsMap": {},
     "title": ""
    }
   },
   "outputs": [],
   "source": []
  },
  {
   "cell_type": "code",
   "execution_count": 0,
   "metadata": {
    "application/vnd.databricks.v1+cell": {
     "cellMetadata": {},
     "inputWidgets": {},
     "nuid": "6f31ee95-8c1a-488c-9194-3f92eae28a23",
     "showTitle": false,
     "tableResultSettingsMap": {},
     "title": ""
    }
   },
   "outputs": [],
   "source": [
    "def relevance_boolean(x):\n",
    "    return str(x).lower()=='yes'"
   ]
  },
  {
   "cell_type": "code",
   "execution_count": 0,
   "metadata": {
    "application/vnd.databricks.v1+cell": {
     "cellMetadata": {},
     "inputWidgets": {},
     "nuid": "4e780e09-e32c-4dcb-8772-5bd25c648d84",
     "showTitle": false,
     "tableResultSettingsMap": {},
     "title": ""
    }
   },
   "outputs": [],
   "source": [
    "m = [(relevance_boolean(item[-3]), item[-1].is_policy_fragmentation_evidence, item[-1].is_policy_fragmentation_plus_failure) for item in l]\n",
    "df_results = pd.DataFrame(m, columns = ['expert_label', 'model1_label', 'model2_label'])\n",
    "precision_m1 = (\n",
    "    df_results.query(\"model1_label == True and expert_label == True\").shape[0]\n",
    "    / df_results.query(\"model1_label == True\").shape[0]\n",
    "    if df_results.query(\"model1_label == True\").shape[0] > 0\n",
    "    else 0\n",
    ")\n",
    "\n",
    "precision_m2 = (\n",
    "    df_results.query(\"model2_label == True and expert_label == True\").shape[0]\n",
    "    / df_results.query(\"model2_label == True\").shape[0]\n",
    "    if df_results.query(\"model2_label == True\").shape[0] > 0\n",
    "    else 0\n",
    ")\n",
    "\n",
    "print(f\"Precision (Model 1): {precision_m1:.2f}\")\n",
    "print(f\"Precision (Model 2): {precision_m2:.2f}\")"
   ]
  },
  {
   "cell_type": "code",
   "execution_count": 0,
   "metadata": {
    "application/vnd.databricks.v1+cell": {
     "cellMetadata": {},
     "inputWidgets": {},
     "nuid": "857828a5-7f75-47d7-98ff-495609e674cc",
     "showTitle": false,
     "tableResultSettingsMap": {},
     "title": ""
    }
   },
   "outputs": [],
   "source": []
  },
  {
   "cell_type": "code",
   "execution_count": 0,
   "metadata": {
    "application/vnd.databricks.v1+cell": {
     "cellMetadata": {},
     "inputWidgets": {},
     "nuid": "f2512abb-707b-4ed4-b233-bc6f5d6220a4",
     "showTitle": false,
     "tableResultSettingsMap": {},
     "title": ""
    }
   },
   "outputs": [],
   "source": []
  },
  {
   "cell_type": "code",
   "execution_count": 0,
   "metadata": {
    "application/vnd.databricks.v1+cell": {
     "cellMetadata": {},
     "inputWidgets": {},
     "nuid": "ee1d6339-01e0-4fac-8d76-9567b166f934",
     "showTitle": false,
     "tableResultSettingsMap": {},
     "title": ""
    }
   },
   "outputs": [],
   "source": []
  },
  {
   "cell_type": "code",
   "execution_count": 0,
   "metadata": {
    "application/vnd.databricks.v1+cell": {
     "cellMetadata": {},
     "inputWidgets": {},
     "nuid": "42c1d00b-262e-4551-813c-15e7d32f0a33",
     "showTitle": false,
     "tableResultSettingsMap": {},
     "title": ""
    }
   },
   "outputs": [],
   "source": []
  },
  {
   "cell_type": "code",
   "execution_count": 0,
   "metadata": {
    "application/vnd.databricks.v1+cell": {
     "cellMetadata": {},
     "inputWidgets": {},
     "nuid": "bf797870-98c6-4229-943b-d48e3c54fb4b",
     "showTitle": false,
     "tableResultSettingsMap": {},
     "title": ""
    }
   },
   "outputs": [],
   "source": []
  },
  {
   "cell_type": "code",
   "execution_count": 0,
   "metadata": {
    "application/vnd.databricks.v1+cell": {
     "cellMetadata": {},
     "inputWidgets": {},
     "nuid": "f6c53a44-dd2d-4aca-8b6a-dc3c46a1d195",
     "showTitle": false,
     "tableResultSettingsMap": {},
     "title": ""
    }
   },
   "outputs": [],
   "source": []
  },
  {
   "cell_type": "code",
   "execution_count": 0,
   "metadata": {
    "application/vnd.databricks.v1+cell": {
     "cellMetadata": {},
     "inputWidgets": {},
     "nuid": "48228520-0e44-4a77-87b1-01c651679835",
     "showTitle": false,
     "tableResultSettingsMap": {},
     "title": ""
    }
   },
   "outputs": [],
   "source": []
  },
  {
   "cell_type": "code",
   "execution_count": 0,
   "metadata": {
    "application/vnd.databricks.v1+cell": {
     "cellMetadata": {},
     "inputWidgets": {},
     "nuid": "dd8439bf-bfec-476a-b254-7f3ab839cd77",
     "showTitle": false,
     "tableResultSettingsMap": {},
     "title": ""
    }
   },
   "outputs": [],
   "source": []
  },
  {
   "cell_type": "code",
   "execution_count": 0,
   "metadata": {
    "application/vnd.databricks.v1+cell": {
     "cellMetadata": {},
     "inputWidgets": {},
     "nuid": "57687851-b7d1-46f9-94e1-71126eacd6eb",
     "showTitle": false,
     "tableResultSettingsMap": {},
     "title": ""
    }
   },
   "outputs": [],
   "source": []
  },
  {
   "cell_type": "code",
   "execution_count": 0,
   "metadata": {
    "application/vnd.databricks.v1+cell": {
     "cellMetadata": {},
     "inputWidgets": {},
     "nuid": "32404415-90a8-4c08-9983-d69f20d1485f",
     "showTitle": false,
     "tableResultSettingsMap": {},
     "title": ""
    }
   },
   "outputs": [],
   "source": []
  },
  {
   "cell_type": "code",
   "execution_count": 0,
   "metadata": {
    "application/vnd.databricks.v1+cell": {
     "cellMetadata": {},
     "inputWidgets": {},
     "nuid": "52296fbf-7393-43ea-bd81-bd5f39352ce4",
     "showTitle": false,
     "tableResultSettingsMap": {},
     "title": ""
    }
   },
   "outputs": [],
   "source": []
  },
  {
   "cell_type": "code",
   "execution_count": 0,
   "metadata": {
    "application/vnd.databricks.v1+cell": {
     "cellMetadata": {},
     "inputWidgets": {},
     "nuid": "d34b0631-5b98-4fb1-8cdb-38d1c09abf38",
     "showTitle": false,
     "tableResultSettingsMap": {},
     "title": ""
    }
   },
   "outputs": [],
   "source": []
  },
  {
   "cell_type": "code",
   "execution_count": 0,
   "metadata": {
    "application/vnd.databricks.v1+cell": {
     "cellMetadata": {},
     "inputWidgets": {},
     "nuid": "8c0474b9-3baf-4cae-be0a-becd99cbde71",
     "showTitle": false,
     "tableResultSettingsMap": {},
     "title": ""
    }
   },
   "outputs": [],
   "source": []
  },
  {
   "cell_type": "code",
   "execution_count": 0,
   "metadata": {
    "application/vnd.databricks.v1+cell": {
     "cellMetadata": {},
     "inputWidgets": {},
     "nuid": "a18fb5d2-5dc4-44e8-8210-ba66e4ae7d0e",
     "showTitle": false,
     "tableResultSettingsMap": {},
     "title": ""
    }
   },
   "outputs": [],
   "source": []
  },
  {
   "cell_type": "code",
   "execution_count": 0,
   "metadata": {
    "application/vnd.databricks.v1+cell": {
     "cellMetadata": {},
     "inputWidgets": {},
     "nuid": "8866d34b-fd31-4319-a534-3123b81bc004",
     "showTitle": false,
     "tableResultSettingsMap": {},
     "title": ""
    }
   },
   "outputs": [],
   "source": []
  },
  {
   "cell_type": "code",
   "execution_count": 0,
   "metadata": {
    "application/vnd.databricks.v1+cell": {
     "cellMetadata": {},
     "inputWidgets": {},
     "nuid": "20d9cb3c-65a0-49a8-bbee-881f619f9e2f",
     "showTitle": false,
     "tableResultSettingsMap": {},
     "title": ""
    }
   },
   "outputs": [],
   "source": []
  },
  {
   "cell_type": "code",
   "execution_count": 0,
   "metadata": {
    "application/vnd.databricks.v1+cell": {
     "cellMetadata": {},
     "inputWidgets": {},
     "nuid": "11fdfcaf-942c-4c96-bbe3-a2883b759ccd",
     "showTitle": false,
     "tableResultSettingsMap": {},
     "title": ""
    }
   },
   "outputs": [],
   "source": []
  },
  {
   "cell_type": "code",
   "execution_count": 0,
   "metadata": {
    "application/vnd.databricks.v1+cell": {
     "cellMetadata": {},
     "inputWidgets": {},
     "nuid": "52ee6bdc-fa69-4bd1-bac4-dfd97e123650",
     "showTitle": false,
     "tableResultSettingsMap": {},
     "title": ""
    }
   },
   "outputs": [],
   "source": []
  },
  {
   "cell_type": "code",
   "execution_count": 0,
   "metadata": {
    "application/vnd.databricks.v1+cell": {
     "cellMetadata": {},
     "inputWidgets": {},
     "nuid": "826f1a79-4fe5-4246-af9f-0a7dd9556b61",
     "showTitle": false,
     "tableResultSettingsMap": {},
     "title": ""
    }
   },
   "outputs": [],
   "source": []
  },
  {
   "cell_type": "code",
   "execution_count": 0,
   "metadata": {
    "application/vnd.databricks.v1+cell": {
     "cellMetadata": {},
     "inputWidgets": {},
     "nuid": "81ece83c-a747-4f0a-a930-99b8e4244613",
     "showTitle": false,
     "tableResultSettingsMap": {},
     "title": ""
    }
   },
   "outputs": [],
   "source": []
  },
  {
   "cell_type": "code",
   "execution_count": 0,
   "metadata": {
    "application/vnd.databricks.v1+cell": {
     "cellMetadata": {},
     "inputWidgets": {},
     "nuid": "e610e296-bb0a-4c21-94e5-fdf8fc3fa0b8",
     "showTitle": false,
     "tableResultSettingsMap": {},
     "title": ""
    }
   },
   "outputs": [],
   "source": [
    "\n",
    "\n",
    "StrongCue = Literal[\n",
    "    \"off_budget\",\n",
    "    \"parallel_systems\",\n",
    "    \"separate_administration\",\n",
    "    \"different_rules_processes_across_streams\",\n",
    "    \"political_ad_hoc_allocation\",\n",
    "    \"mid_year_approval_outside_cycle\",\n",
    "    \"block_allocation_outside_process\",\n",
    "    \"multiple_financing_pools_different_agencies\",\n",
    "]\n",
    "\n",
    "ModerateCue = Literal[\n",
    "    \"earmarked_or_tied_grants\",\n",
    "    \"vertical_fragmentation_intergovernmental\",\n",
    "    \"procedural_divergence_reporting_procurement_ifmis\",\n",
    "    \"pooled_fund_dissolved_or_bypass\",\n",
    "    \"volatility_revealing_fragmentation\",\n",
    "]\n",
    "\n",
    "FailureType = Literal[\n",
    "    \"inefficiency_higher_admin_costs\",\n",
    "    \"unpredictability_funding_volatility\",\n",
    "    \"coordination_failure_duplication_underutilization_competition\",\n",
    "    \"delays_start_stop\",\n",
    "    \"arrears_or_cash_shortfalls\",\n",
    "    \"corruption_or_leakage_risk\",\n",
    "]\n",
    "\n",
    "Subtype = Literal[\n",
    "    \"donor_gov_parallel\",\n",
    "    \"domestic_vs_donor_different_rules\",\n",
    "    \"political_ad_hoc_intragovernment\",\n",
    "    \"vertical_intergovernmental_fragmentation\",\n",
    "    \"program_administration_fragmentation\",\n",
    "    \"other\",\n",
    "]\n",
    "\n",
    "Decision = Literal[\n",
    "    \"relevant_feature\",                 # feature-based evidence satisfied\n",
    "    \"relevant_feature_and_failure\",     # fragmentation + failure satisfied\n",
    "    \"irrelevant\",                       # hard negative or no cues\n",
    "    \"abstain\",                          # insufficient quotable spans or uncertain\n",
    "]\n",
    "\n",
    "class BottleneckEvidence(BaseModel):\n",
    "    \"\"\"\n",
    "    Structured judgment for PFM Bottleneck 6.1.\n",
    "    Follows precision-first rules: strong/moderate cues, hard negatives, and span extraction.\n",
    "    \"\"\"\n",
    "    # Primary decisions\n",
    "    is_fragmentation_evidence: bool = Field(\n",
    "        ..., description=\"Feature-based verdict (diagnostic). True iff STRONG>=1 or MODERATE>=2 and trigger_spans present and not hard_negative.\"\n",
    "    )\n",
    "    is_fragmentation_plus_failure: bool = Field(\n",
    "        ..., description=\"Consequence-based verdict. True iff is_fragmentation_evidence and failure_present.\"\n",
    "    )\n",
    "    decision: Decision = Field(\n",
    "        ..., description='Overall decision among {\"relevant_feature\",\"relevant_feature_and_failure\",\"irrelevant\",\"abstain\"}.'\n",
    "    )\n",
    "\n",
    "    # Evidence for fragmentation\n",
    "    strong_cues: List[StrongCue] = Field(default_factory=list, description=\"Which strong cues were found.\")\n",
    "    moderate_cues: List[ModerateCue] = Field(default_factory=list, description=\"Which moderate cues were found.\")\n",
    "    hard_negative: bool = Field(False, description=\"True if the passage matches any exclusion rule.\")\n",
    "    trigger_spans: List[str] = Field(\n",
    "        default_factory=list,\n",
    "        description=\"Verbatim phrases from the text that support fragmentation cues (must be substrings of the input).\",\n",
    "    )\n",
    "    subtype: Subtype = Field(\"other\", description=\"Subtype of fragmentation, if any.\")\n",
    "\n",
    "    # Evidence for failure/inefficiency\n",
    "    failure_present: bool = Field(False, description=\"True if explicit or clearly implied delivery failure/inefficiency is present.\")\n",
    "    failure_types: List[FailureType] = Field(default_factory=list, description=\"Categorization of the failure/inefficiency mentioned.\")\n",
    "    failure_spans: List[str] = Field(\n",
    "        default_factory=list,\n",
    "        description=\"Verbatim phrases supporting failure/inefficiency (must be substrings of the input).\",\n",
    "    )\n",
    "\n",
    "    rationale: str = Field(\n",
    "        ...,\n",
    "        description=\"2-3 sentence justification referencing the trigger_spans/failure_spans; avoid speculation; no new facts.\",\n",
    "    )\n"
   ]
  },
  {
   "cell_type": "code",
   "execution_count": 0,
   "metadata": {
    "application/vnd.databricks.v1+cell": {
     "cellMetadata": {},
     "inputWidgets": {},
     "nuid": "f917d8a3-3ede-482e-9d27-226e4aa351a6",
     "showTitle": false,
     "tableResultSettingsMap": {},
     "title": ""
    }
   },
   "outputs": [],
   "source": [
    "SYSTEM_PROMPT_BASE = \"\"\"\n",
    "You are a public financial management (PFM) diagnostic analyst.\n",
    "Task: determine if a passage evidences Bottleneck 6.1: “Ad hoc, political, and fragmented funding channels contribute to ineffective and inefficient delivery.”\n",
    "Scope lock: Treat fragmentation strictly as funding/financial-management channel fragmentation. Program/administrative separation is irrelevant unless it creates a distinct funding flow or parallel financial control stream.\n",
    "Always quote verbatim trigger spans from the INPUT TEXT. Be precise and conservative.\n",
    "\"\"\"\n",
    "\n",
    "PROMPT_SHARED_HEADER = \"\"\"\n",
    "Bottleneck family: {challenge}\n",
    "Specific bottleneck: {bottleneck}\n",
    "\n",
    "Extended definition:\n",
    "{extended_definition}\n",
    "\n",
    "INPUT TEXT:\n",
    "{input_text}\n",
    "\n",
    "Extended source context (for corroboration only; do not quote from it):\n",
    "{extended_context}\n",
    "\"\"\"\n",
    "\n",
    "PROMPT_ADVOCATE = PROMPT_SHARED_HEADER + \"\"\"\n",
    "ROLE = ADVOCATE\n",
    "Goal: make the best good-faith case for relevance (maximize recall) while staying within the scope lock.\n",
    "\n",
    "What to look for:\n",
    "- Funding-channel fragmentation cues:\n",
    "  STRONG: off-budget; parallel accounts/systems; donor vs government with different rules/processes; political/ad-hoc channels (block/mid-year) bypassing normal cycle; multiple financing pools managed by different agencies; bypass of government systems/pooled fund dissolved→parallel handling.\n",
    "  MODERATE: earmarked/tied with separate handling; vertical IG fragmentation with distinct pools; procedural divergence across funding streams (release/reporting/procurement/IFMIS); volatility revealing separate handling (“moved off-budget”, “bypassed TSA”).\n",
    "- Delivery failure/inefficiency: higher admin costs, unpredictability/start–stop, coordination failure/duplication/underutilization/competition, delays/arrears/cash shortfalls, corruption/leakage.\n",
    "\n",
    "Output JSON strictly as the given schema. Quote finance trigger spans from the INPUT TEXT.\n",
    "\"\"\"\n",
    "\n",
    "PROMPT_SKEPTIC = PROMPT_SHARED_HEADER + \"\"\"\n",
    "ROLE = SKEPTIC\n",
    "Goal: test and narrow (maximize precision). Accept only funding-channel fragmentation. Reject hard negatives.\n",
    "\n",
    "Hard negatives (irrelevant unless a qualifying funding-channel cue exists):\n",
    "- Wage-bill/personnel/payroll control (PSC, casual workers, “separate budget vote/line”) on-budget\n",
    "- Program-budget/accountability structure without distinct funding channels/systems\n",
    "- Capacity/procurement/audit issues without alternate channels\n",
    "- Revenue politics (divisible pool shares, OSR) without off-budget/ad-hoc fees/parallel accounts\n",
    "- Donor dependence/withdrawal without off-budget/parallel handling or different rules\n",
    "\n",
    "Require a finance trigger span (“off-budget”, “TSA/IFMIS”, “parallel account/system”, “pool/pooled fund”, “allocation/release/warrant/disbursement”, “block/discretionary”, “mid-year approval”, “ADP/MTEF”, “donor-funded vs government-funded (different rules)”).\n",
    "If no such span exists, push for abstain/irrelevant.\n",
    "\n",
    "Output JSON strictly as the given schema. Quote finance trigger spans from the INPUT TEXT.\n",
    "\"\"\"\n",
    "\n",
    "PROMPT_JUDGE = \"\"\"\n",
    "ROLE = JUDGE\n",
    "You will see the original task info, the INPUT TEXT, and JSON opinions from an Advocate and a Skeptic.\n",
    "Reconcile and emit the final structured judgment using the BottleneckEvidence schema and the acceptance rules:\n",
    "\n",
    "Acceptance rules:\n",
    "1) is_fragmentation_evidence = true iff ((STRONG >= 1) OR (MODERATE >= 2)) AND trigger_spans (finance words) nonempty AND hard_negative = false.\n",
    "2) is_fragmentation_plus_failure = true iff is_fragmentation_evidence AND failure_present = true.\n",
    "3) If no explicit finance phrase can be quoted for trigger_spans, decision = \"abstain\".\n",
    "4) Always fill trigger_spans and failure_spans with verbatim phrases from the INPUT TEXT that justify your labels.\n",
    "5) Keep scope lock: fragmentation means funding/financial-management channels.\n",
    "\n",
    "TASK INFO\n",
    "---------\n",
    "Bottleneck family: {challenge}\n",
    "Specific bottleneck: {bottleneck}\n",
    "\n",
    "Extended definition:\n",
    "{extended_definition}\n",
    "\n",
    "INPUT TEXT:\n",
    "{input_text}\n",
    "\n",
    "Extended source context (for corroboration only; do not quote from it):\n",
    "{extended_context}\n",
    "\n",
    "ADVOCATE JSON:\n",
    "{advocate_json}\n",
    "\n",
    "SKEPTIC JSON:\n",
    "{skeptic_json}\n",
    "\"\"\"\n",
    "\n",
    "StrongCue = Literal[\n",
    "    \"off_budget\",\n",
    "    \"parallel_systems\",\n",
    "    \"donor_vs_gov_different_rules\",\n",
    "    \"political_ad_hoc_channel\",\n",
    "    \"mid_year_outside_cycle\",\n",
    "    \"multiple_financing_pools\",\n",
    "    \"bypass_gov_systems_or_pooled_dissolved\"\n",
    "]\n",
    "\n",
    "ModerateCue = Literal[\n",
    "    \"earmarked_tied_with_separate_handling\",\n",
    "    \"vertical_fragmentation_distinct_pools\",\n",
    "    \"procedural_divergence_across_streams\",\n",
    "    \"volatility_revealing_separate_handling\"\n",
    "]\n",
    "\n",
    "FailureType = Literal[\n",
    "    \"inefficiency_higher_admin_costs\",\n",
    "    \"unpredictability_funding_volatility\",\n",
    "    \"coordination_failure_duplication_underutilization_competition\",\n",
    "    \"delays_start_stop\",\n",
    "    \"arrears_or_cash_shortfalls\",\n",
    "    \"corruption_or_leakage_risk\",\n",
    "]\n",
    "\n",
    "class PanelOpinion(BaseModel):\n",
    "    proposed_decision: Literal[\"relevant_feature\",\"relevant_feature_and_failure\",\"irrelevant\",\"abstain\"] = Field(...)\n",
    "    strong_cues: List[StrongCue] = Field(default_factory=list)\n",
    "    moderate_cues: List[ModerateCue] = Field(default_factory=list)\n",
    "    trigger_spans: List[str] = Field(default_factory=list, description=\"Verbatim finance-related spans from INPUT TEXT.\")\n",
    "    hard_negative_flags: List[Literal[\n",
    "        \"wagebill_personnel_on_budget_only\",\n",
    "        \"program_admin_without_finance_split\",\n",
    "        \"procurement_capacity_audit_only\",\n",
    "        \"revenue_politics_without_alt_channel\",\n",
    "        \"donor_volatility_without_parallelization\"\n",
    "    ]] = Field(default_factory=list)\n",
    "    failure_present: bool = False\n",
    "    failure_types: List[FailureType] = Field(default_factory=list)\n",
    "    failure_spans: List[str] = Field(default_factory=list)\n",
    "    rationale: str = Field(..., description=\"2–4 sentences, reference quoted spans, no speculation.\")\n",
    "\n",
    "def classify_with_panel(\n",
    "    service,\n",
    "    challenge: str,\n",
    "    bottleneck: str,\n",
    "    extended_definition: str,\n",
    "    input_text: str,\n",
    "    extended_context: str = \"\",\n",
    "    model: str = DEFAULT_LLM_MODEL,\n",
    "    system_prompt_base: str = SYSTEM_PROMPT_BASE,\n",
    "    temperature: float = 0.0,\n",
    "):\n",
    "    # Advocate\n",
    "    advocate_prompt = PROMPT_ADVOCATE.format(\n",
    "        challenge=challenge,\n",
    "        bottleneck=bottleneck,\n",
    "        extended_definition=extended_definition,\n",
    "        input_text=input_text,\n",
    "        extended_context=extended_context,\n",
    "    )\n",
    "    advocate = service.execute(\n",
    "        prompt=advocate_prompt,\n",
    "        model=model,\n",
    "        response_model=PanelOpinion,\n",
    "        temperature=temperature,\n",
    "        system_message=system_prompt_base + \"\\nROLE: ADVOCATE\"\n",
    "    )\n",
    "\n",
    "    # Skeptic\n",
    "    skeptic_prompt = PROMPT_SKEPTIC.format(\n",
    "        challenge=challenge,\n",
    "        bottleneck=bottleneck,\n",
    "        extended_definition=extended_definition,\n",
    "        input_text=input_text,\n",
    "        extended_context=extended_context,\n",
    "    )\n",
    "    skeptic = service.execute(\n",
    "        prompt=skeptic_prompt,\n",
    "        model=model,\n",
    "        response_model=PanelOpinion,\n",
    "        temperature=temperature,\n",
    "        system_message=system_prompt_base + \"\\nROLE: SKEPTIC\"\n",
    "    )\n",
    "\n",
    "    # Judge\n",
    "    import json\n",
    "    judge_prompt = PROMPT_JUDGE.format(\n",
    "        challenge=challenge,\n",
    "        bottleneck=bottleneck,\n",
    "        extended_definition=extended_definition,\n",
    "        input_text=input_text,\n",
    "        extended_context=extended_context,\n",
    "        advocate_json=json.dumps(advocate.dict(), ensure_ascii=False),\n",
    "        skeptic_json=json.dumps(skeptic.dict(), ensure_ascii=False),\n",
    "    )\n",
    "    final = service.execute(\n",
    "        prompt=judge_prompt,\n",
    "        model=model,\n",
    "        response_model=BottleneckEvidence,\n",
    "        temperature=temperature,\n",
    "        system_message=system_prompt_base + \"\\nROLE: JUDGE\"\n",
    "    )\n",
    "\n",
    "    return final, advocate, skeptic\n"
   ]
  },
  {
   "cell_type": "code",
   "execution_count": 0,
   "metadata": {
    "application/vnd.databricks.v1+cell": {
     "cellMetadata": {},
     "inputWidgets": {},
     "nuid": "7018c6c3-b773-4780-bea1-53c4e7091871",
     "showTitle": false,
     "tableResultSettingsMap": {},
     "title": ""
    }
   },
   "outputs": [],
   "source": [
    "l = []"
   ]
  },
  {
   "cell_type": "code",
   "execution_count": 0,
   "metadata": {
    "application/vnd.databricks.v1+cell": {
     "cellMetadata": {},
     "inputWidgets": {},
     "nuid": "30b619a6-589d-4cdc-8bca-4848c4797b9a",
     "showTitle": false,
     "tableResultSettingsMap": {},
     "title": ""
    }
   },
   "outputs": [],
   "source": [
    "start, end = 100, df.shape[0]\n",
    "for item in tqdm(df.values.tolist()[start:end]):\n",
    "    node_id, chunk_id, extended_context, extracted_evidence, expert_classification, reason_for_expert_irrelevant = item\n",
    "    final, advocate, skeptic = classify_with_panel(\n",
    "        service,\n",
    "        challenge = challenge,\n",
    "        bottleneck = bottleneck,\n",
    "        extended_definition = extended_definition,\n",
    "        input_text = extracted_evidence,\n",
    "        extended_context = extended_context,\n",
    "        model = DEFAULT_LLM_MODEL,\n",
    "        system_prompt_base = SYSTEM_PROMPT_BASE,\n",
    "        temperature = 0.0,\n",
    "    )\n",
    "    l.append((node_id, chunk_id, extended_context, extracted_evidence, expert_classification, reason_for_expert_irrelevant,\n",
    "            final, advocate, skeptic))"
   ]
  },
  {
   "cell_type": "code",
   "execution_count": 0,
   "metadata": {
    "application/vnd.databricks.v1+cell": {
     "cellMetadata": {},
     "inputWidgets": {},
     "nuid": "c3d57686-a9d3-429f-ab74-56b9df1e800a",
     "showTitle": false,
     "tableResultSettingsMap": {},
     "title": ""
    }
   },
   "outputs": [],
   "source": []
  },
  {
   "cell_type": "code",
   "execution_count": 0,
   "metadata": {
    "application/vnd.databricks.v1+cell": {
     "cellMetadata": {},
     "inputWidgets": {},
     "nuid": "a4932b24-6df0-42ae-9885-67fbdd56028e",
     "showTitle": false,
     "tableResultSettingsMap": {},
     "title": ""
    }
   },
   "outputs": [],
   "source": []
  },
  {
   "cell_type": "code",
   "execution_count": 0,
   "metadata": {
    "application/vnd.databricks.v1+cell": {
     "cellMetadata": {},
     "inputWidgets": {},
     "nuid": "50e7e933-1e9e-4d44-bb82-fbb7f91290f6",
     "showTitle": false,
     "tableResultSettingsMap": {},
     "title": ""
    }
   },
   "outputs": [],
   "source": [
    "def relevance_boolean(x):\n",
    "    return x=='Relevant'"
   ]
  },
  {
   "cell_type": "code",
   "execution_count": 0,
   "metadata": {
    "application/vnd.databricks.v1+cell": {
     "cellMetadata": {},
     "inputWidgets": {},
     "nuid": "3e8683fa-9f31-4f72-b02f-7d0ec6ae94d8",
     "showTitle": false,
     "tableResultSettingsMap": {},
     "title": ""
    }
   },
   "outputs": [],
   "source": [
    "m = [(relevance_boolean(item[-5]), item[-3].is_fragmentation_evidence, item[-3].is_fragmentation_plus_failure) for item in l]\n",
    "df_results = pd.DataFrame(m, columns = ['expert_label', 'model1_label', 'model2_label'])\n",
    "precision_m1 = (\n",
    "    df_results.query(\"model1_label == True and expert_label == True\").shape[0]\n",
    "    / df_results.query(\"model1_label == True\").shape[0]\n",
    "    if df_results.query(\"model1_label == True\").shape[0] > 0\n",
    "    else 0\n",
    ")\n",
    "\n",
    "precision_m2 = (\n",
    "    df_results.query(\"model2_label == True and expert_label == True\").shape[0]\n",
    "    / df_results.query(\"model2_label == True\").shape[0]\n",
    "    if df_results.query(\"model2_label == True\").shape[0] > 0\n",
    "    else 0\n",
    ")\n",
    "\n",
    "print(f\"Precision (Model 1): {precision_m1:.2f}\")\n",
    "print(f\"Precision (Model 2): {precision_m2:.2f}\")"
   ]
  },
  {
   "cell_type": "code",
   "execution_count": 0,
   "metadata": {
    "application/vnd.databricks.v1+cell": {
     "cellMetadata": {},
     "inputWidgets": {},
     "nuid": "bf507da9-0a3d-49c0-854a-8e7291b5b1a3",
     "showTitle": false,
     "tableResultSettingsMap": {},
     "title": ""
    }
   },
   "outputs": [],
   "source": []
  },
  {
   "cell_type": "code",
   "execution_count": 0,
   "metadata": {
    "application/vnd.databricks.v1+cell": {
     "cellMetadata": {},
     "inputWidgets": {},
     "nuid": "12cc1968-10a1-4cdb-b12f-3aa2d5d9b906",
     "showTitle": false,
     "tableResultSettingsMap": {},
     "title": ""
    }
   },
   "outputs": [],
   "source": []
  },
  {
   "cell_type": "code",
   "execution_count": 0,
   "metadata": {
    "application/vnd.databricks.v1+cell": {
     "cellMetadata": {},
     "inputWidgets": {},
     "nuid": "b51d459a-5a30-404f-8ae5-565c69040eff",
     "showTitle": false,
     "tableResultSettingsMap": {},
     "title": ""
    }
   },
   "outputs": [],
   "source": []
  },
  {
   "cell_type": "code",
   "execution_count": 0,
   "metadata": {
    "application/vnd.databricks.v1+cell": {
     "cellMetadata": {},
     "inputWidgets": {},
     "nuid": "8a37ce05-7c09-488f-be29-1adb16a8b876",
     "showTitle": false,
     "tableResultSettingsMap": {},
     "title": ""
    }
   },
   "outputs": [],
   "source": []
  },
  {
   "cell_type": "code",
   "execution_count": 0,
   "metadata": {
    "application/vnd.databricks.v1+cell": {
     "cellMetadata": {},
     "inputWidgets": {},
     "nuid": "9f4948c0-3564-490a-93a8-8e98597d7736",
     "showTitle": false,
     "tableResultSettingsMap": {},
     "title": ""
    }
   },
   "outputs": [],
   "source": []
  },
  {
   "cell_type": "code",
   "execution_count": 0,
   "metadata": {
    "application/vnd.databricks.v1+cell": {
     "cellMetadata": {},
     "inputWidgets": {},
     "nuid": "ade6662f-dedf-41f7-9c07-c958d3b51cc1",
     "showTitle": false,
     "tableResultSettingsMap": {},
     "title": ""
    }
   },
   "outputs": [],
   "source": []
  },
  {
   "cell_type": "code",
   "execution_count": 0,
   "metadata": {
    "application/vnd.databricks.v1+cell": {
     "cellMetadata": {},
     "inputWidgets": {},
     "nuid": "978a05c7-fe66-4663-9163-43b8252e9775",
     "showTitle": false,
     "tableResultSettingsMap": {},
     "title": ""
    }
   },
   "outputs": [],
   "source": []
  },
  {
   "cell_type": "code",
   "execution_count": 0,
   "metadata": {
    "application/vnd.databricks.v1+cell": {
     "cellMetadata": {},
     "inputWidgets": {},
     "nuid": "74b49b04-53d7-4b83-bf5f-086693c06610",
     "showTitle": false,
     "tableResultSettingsMap": {},
     "title": ""
    }
   },
   "outputs": [],
   "source": []
  },
  {
   "cell_type": "code",
   "execution_count": 0,
   "metadata": {
    "application/vnd.databricks.v1+cell": {
     "cellMetadata": {},
     "inputWidgets": {},
     "nuid": "264ea069-1909-4621-963d-3126ab4535da",
     "showTitle": false,
     "tableResultSettingsMap": {},
     "title": ""
    }
   },
   "outputs": [],
   "source": []
  },
  {
   "cell_type": "code",
   "execution_count": 0,
   "metadata": {
    "application/vnd.databricks.v1+cell": {
     "cellMetadata": {},
     "inputWidgets": {},
     "nuid": "88ca1a4f-9beb-47ae-98bd-71ff7aa2c15d",
     "showTitle": false,
     "tableResultSettingsMap": {},
     "title": ""
    }
   },
   "outputs": [],
   "source": []
  },
  {
   "cell_type": "code",
   "execution_count": 0,
   "metadata": {
    "application/vnd.databricks.v1+cell": {
     "cellMetadata": {},
     "inputWidgets": {},
     "nuid": "3749eccc-66cf-4599-b671-a839c1502887",
     "showTitle": false,
     "tableResultSettingsMap": {},
     "title": ""
    }
   },
   "outputs": [],
   "source": []
  },
  {
   "cell_type": "code",
   "execution_count": 0,
   "metadata": {
    "application/vnd.databricks.v1+cell": {
     "cellMetadata": {},
     "inputWidgets": {},
     "nuid": "5cf201e5-9b6f-4314-a304-1ca540f57e76",
     "showTitle": false,
     "tableResultSettingsMap": {},
     "title": ""
    }
   },
   "outputs": [],
   "source": []
  },
  {
   "cell_type": "code",
   "execution_count": 0,
   "metadata": {
    "application/vnd.databricks.v1+cell": {
     "cellMetadata": {},
     "inputWidgets": {},
     "nuid": "fad6fce7-0fae-4a1c-a51e-cb00fe573dca",
     "showTitle": false,
     "tableResultSettingsMap": {},
     "title": ""
    }
   },
   "outputs": [],
   "source": []
  },
  {
   "cell_type": "code",
   "execution_count": 0,
   "metadata": {
    "application/vnd.databricks.v1+cell": {
     "cellMetadata": {},
     "inputWidgets": {},
     "nuid": "f4063e00-ba0f-419d-a9c1-c36ae598f4a4",
     "showTitle": false,
     "tableResultSettingsMap": {},
     "title": ""
    }
   },
   "outputs": [],
   "source": []
  },
  {
   "cell_type": "code",
   "execution_count": 0,
   "metadata": {
    "application/vnd.databricks.v1+cell": {
     "cellMetadata": {},
     "inputWidgets": {},
     "nuid": "f1ebfc98-873a-422c-87ea-9a3556b8e332",
     "showTitle": false,
     "tableResultSettingsMap": {},
     "title": ""
    }
   },
   "outputs": [],
   "source": []
  },
  {
   "cell_type": "code",
   "execution_count": 0,
   "metadata": {
    "application/vnd.databricks.v1+cell": {
     "cellMetadata": {},
     "inputWidgets": {},
     "nuid": "8950b305-b7db-4779-94dd-cbc27c71b6c6",
     "showTitle": false,
     "tableResultSettingsMap": {},
     "title": ""
    }
   },
   "outputs": [],
   "source": [
    "import numpy as np\n",
    "\n",
    "def cosine_similarity(vec1, vec2):\n",
    "    \"\"\"\n",
    "    Compute the cosine similarity between two vectors.\n",
    "    Args:\n",
    "        vec1 (list or np.ndarray): First vector\n",
    "        vec2 (list or np.ndarray): Second vector\n",
    "    Returns:\n",
    "        float: Cosine similarity value\n",
    "    \"\"\"\n",
    "    v1 = np.array(vec1)\n",
    "    v2 = np.array(vec2)\n",
    "    dot_product = np.dot(v1, v2)\n",
    "    norm_v1 = np.linalg.norm(v1)\n",
    "    norm_v2 = np.linalg.norm(v2)\n",
    "    if norm_v1 == 0 or norm_v2 == 0:\n",
    "        return 0.0\n",
    "    return dot_product / (norm_v1 * norm_v2)\n"
   ]
  },
  {
   "cell_type": "code",
   "execution_count": 0,
   "metadata": {
    "application/vnd.databricks.v1+cell": {
     "cellMetadata": {},
     "inputWidgets": {},
     "nuid": "30bcfbac-add8-4859-8fc8-6369f7109357",
     "showTitle": false,
     "tableResultSettingsMap": {},
     "title": ""
    }
   },
   "outputs": [],
   "source": [
    "import os\n",
    "import numpy as np\n",
    "from openai import OpenAI\n",
    "\n",
    "client = OpenAI()\n",
    "\n",
    "def get_embedding(text, model=\"text-embedding-ada-002\"):\n",
    "    \"\"\"\n",
    "    Convert input text into an embedding vector using OpenAI's embedding API.\n",
    "    \"\"\"\n",
    "    response = client.embeddings.create(\n",
    "        model=model,\n",
    "        input=text\n",
    "    )\n",
    "    return np.array(response.data[0].embedding)\n",
    "\n",
    "def cosine_similarity(vec1, vec2):\n",
    "    \"\"\"\n",
    "    Compute cosine similarity between two vectors.\n",
    "    \"\"\"\n",
    "    dot_product = np.dot(vec1, vec2)\n",
    "    norm_v1 = np.linalg.norm(vec1)\n",
    "    norm_v2 = np.linalg.norm(vec2)\n",
    "    if norm_v1 == 0 or norm_v2 == 0:\n",
    "        return 0.0\n",
    "    return dot_product / (norm_v1 * norm_v2)\n",
    "\n",
    "def similarity_between_texts(text1, text2):\n",
    "    \"\"\"\n",
    "    Vectorize two input texts and compute their cosine similarity.\n",
    "    \"\"\"\n",
    "    vec1 = get_embedding(text1)\n",
    "    vec2 = get_embedding(text2)\n",
    "    return cosine_similarity(vec1, vec2)\n"
   ]
  },
  {
   "cell_type": "code",
   "execution_count": 0,
   "metadata": {
    "application/vnd.databricks.v1+cell": {
     "cellMetadata": {},
     "inputWidgets": {},
     "nuid": "2f3bb526-5811-4ebf-8ddd-53582582c866",
     "showTitle": false,
     "tableResultSettingsMap": {},
     "title": ""
    }
   },
   "outputs": [],
   "source": []
  },
  {
   "cell_type": "code",
   "execution_count": 0,
   "metadata": {
    "application/vnd.databricks.v1+cell": {
     "cellMetadata": {},
     "inputWidgets": {},
     "nuid": "7cdf677a-da73-4f37-a0af-21095f2726aa",
     "showTitle": false,
     "tableResultSettingsMap": {},
     "title": ""
    }
   },
   "outputs": [],
   "source": [
    "\n",
    "text_a = \"Public financial management reform in Africa.\"\n",
    "text_b = \"Budget and expenditure systems improvement in African countries.\"\n",
    "\n",
    "similarity = similarity_between_texts(text_a, text_b)\n",
    "print(f\"Cosine similarity: {similarity:.4f}\")\n"
   ]
  },
  {
   "cell_type": "code",
   "execution_count": 0,
   "metadata": {
    "application/vnd.databricks.v1+cell": {
     "cellMetadata": {},
     "inputWidgets": {},
     "nuid": "67e5ceeb-6ffa-4c79-a2a9-6c07664e50c7",
     "showTitle": false,
     "tableResultSettingsMap": {},
     "title": ""
    }
   },
   "outputs": [],
   "source": [
    "cosine_similarity(v1, v2)"
   ]
  },
  {
   "cell_type": "code",
   "execution_count": 0,
   "metadata": {
    "application/vnd.databricks.v1+cell": {
     "cellMetadata": {},
     "inputWidgets": {},
     "nuid": "1a5656f3-a6c2-4dd3-8ec9-9f8bfeec1768",
     "showTitle": false,
     "tableResultSettingsMap": {},
     "title": ""
    }
   },
   "outputs": [],
   "source": [
    "q = 'poverty'\n",
    "t1 = \"Trang Nguyen is a professional with expertise in poverty reduction, shared prosperity, and sustainable development. Trang's work focuses on providing policy-oriented diagnostics, technical assistance, and improved communication on reform options. Trang has experience in various projects related to poverty assessment, fiscal policy, and economic growth. Trang's work involves building engagement with governments and stakeholders to promote growth and job creation. Trang has also contributed to the operationalization of the twin goals of poverty reduction and shared prosperity in the Western Balkans. Trang has supported the generation of new data and analytics on SOGI inclusion. Trang's location and additional details are not provided in the given data\"\n",
    "t2 = \"FIRST_NAME is a transport specialist with a strong background in urban transport, railway systems, and sustainable transport solutions.  Expertise encompasses economic analysis, policy development, project management, and data analysis.  Has worked on various projects related to improving transport infrastructure and services, focusing on efficiency, safety, and sustainability. Experience includes working on BRT systems, integrated urban transport planning, railway connectivity, economic corridor development, multimodal logistics, and institutional reform in the transport sector.\\n\"\n"
   ]
  },
  {
   "cell_type": "code",
   "execution_count": 0,
   "metadata": {
    "application/vnd.databricks.v1+cell": {
     "cellMetadata": {},
     "inputWidgets": {},
     "nuid": "f3bdc72a-34bc-4d3c-88c6-79d5fa8298aa",
     "showTitle": false,
     "tableResultSettingsMap": {},
     "title": ""
    }
   },
   "outputs": [],
   "source": [
    "similarity_between_texts(q,t1)"
   ]
  },
  {
   "cell_type": "code",
   "execution_count": 0,
   "metadata": {
    "application/vnd.databricks.v1+cell": {
     "cellMetadata": {},
     "inputWidgets": {},
     "nuid": "44efc57e-7ffd-47a7-a862-a88ef27af941",
     "showTitle": false,
     "tableResultSettingsMap": {},
     "title": ""
    }
   },
   "outputs": [],
   "source": [
    "similarity_between_texts(q,t2)"
   ]
  },
  {
   "cell_type": "code",
   "execution_count": 0,
   "metadata": {
    "application/vnd.databricks.v1+cell": {
     "cellMetadata": {},
     "inputWidgets": {},
     "nuid": "b06259a6-bf2e-4e85-af33-3fb55760494f",
     "showTitle": false,
     "tableResultSettingsMap": {},
     "title": ""
    }
   },
   "outputs": [],
   "source": [
    "similarity_between_texts(t1,t2)"
   ]
  },
  {
   "cell_type": "code",
   "execution_count": 0,
   "metadata": {
    "application/vnd.databricks.v1+cell": {
     "cellMetadata": {},
     "inputWidgets": {},
     "nuid": "4743e6cb-415d-4044-9113-4689bd993f51",
     "showTitle": false,
     "tableResultSettingsMap": {},
     "title": ""
    }
   },
   "outputs": [],
   "source": [
    "cosine_similarity(v1, v2)"
   ]
  },
  {
   "cell_type": "code",
   "execution_count": 0,
   "metadata": {
    "application/vnd.databricks.v1+cell": {
     "cellMetadata": {},
     "inputWidgets": {},
     "nuid": "045673a2-3029-4e30-b46f-e3d419326e3f",
     "showTitle": false,
     "tableResultSettingsMap": {},
     "title": ""
    }
   },
   "outputs": [],
   "source": [
    "vec1 = get_embedding(t1)\n",
    "cosine_similarity(vec1, v1)"
   ]
  },
  {
   "cell_type": "code",
   "execution_count": 0,
   "metadata": {
    "application/vnd.databricks.v1+cell": {
     "cellMetadata": {},
     "inputWidgets": {},
     "nuid": "42f5af5e-d1bd-48d8-8203-4cf88a514618",
     "showTitle": false,
     "tableResultSettingsMap": {},
     "title": ""
    }
   },
   "outputs": [],
   "source": []
  }
 ],
 "metadata": {
  "application/vnd.databricks.v1+notebook": {
   "computePreferences": null,
   "dashboards": [],
   "environmentMetadata": null,
   "inputWidgetPreferences": null,
   "language": "python",
   "notebookMetadata": {},
   "notebookName": "2_1_policy_coherence_extraction_validation",
   "widgets": {}
  },
  "kernelspec": {
   "display_name": "Witchcraft Cases",
   "language": "python",
   "name": "witchcraft"
  },
  "language_info": {
   "name": "python"
  }
 },
 "nbformat": 4,
 "nbformat_minor": 0
}
